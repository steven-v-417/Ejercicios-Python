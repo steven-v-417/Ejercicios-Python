{
 "cells": [
  {
   "cell_type": "markdown",
   "metadata": {
    "application/vnd.databricks.v1+cell": {
     "inputWidgets": {},
     "nuid": "c5904a78-050c-49d5-9c42-b2556a65e0bc",
     "showTitle": false,
     "title": ""
    }
   },
   "source": [
    "<h1>Procesamiento de Datos a Gran Escala</h1>\n",
    "Resuelto por: Steven Robles ID:20516332"
   ]
  },
  {
   "cell_type": "markdown",
   "metadata": {
    "application/vnd.databricks.v1+cell": {
     "inputWidgets": {},
     "nuid": "020bd525-d2c0-4ef8-b192-d7052caacf30",
     "showTitle": false,
     "title": ""
    }
   },
   "source": [
    "<h2>Funciones en Python</h2>"
   ]
  },
  {
   "cell_type": "markdown",
   "metadata": {
    "application/vnd.databricks.v1+cell": {
     "inputWidgets": {},
     "nuid": "c63fae49-72ff-4843-b874-a4874ae159dc",
     "showTitle": false,
     "title": ""
    }
   },
   "source": [
    "%md\n",
    "<p><strong>¡Bienvenido!</strong> Este cuaderno te va a mostrar acerca del uso de funciones en el lenguaje de programación Python. Al finalizar este laboratorio, sabrás los conceptos básicos acerca de funciones, variables y cómo usar funciones</p>"
   ]
  },
  {
   "cell_type": "markdown",
   "metadata": {
    "application/vnd.databricks.v1+cell": {
     "inputWidgets": {},
     "nuid": "39bbccf2-e801-47f2-96f3-d52b33a8860d",
     "showTitle": false,
     "title": ""
    }
   },
   "source": [
    "<h2>Tabla de contenidos</h2>\n",
    "<div class=\"alert alert-block alert-info\" style=\"margin-top: 20px\">\n",
    "    <ul>\n",
    "        <li>\n",
    "            <a href=\"#func\">Funciones</a>\n",
    "            <ul>\n",
    "                <li><a href=\"content\">¿Qué es una función?</a></li>\n",
    "                <li><a href=\"var\">Variables</a></li>\n",
    "                <li><a href=\"simple\">Las funciones hacen las cosas más fáciles</a></li>\n",
    "            </ul>\n",
    "        </li>\n",
    "        <li><a href=\"pre\">Funciones predefinidas</a></li>\n",
    "        <li><a href=\"if\">Utilizando <code>if</code>/<code>else</code> y ciclos en Funciones</a></li>\n",
    "        <li><a href=\"default\">Establecer valores de argumento predeterminados en sus funciones personalizadas</a></li>\n",
    "        <li><a href=\"global\">Variables globales</a></li>\n",
    "        <li><a href=\"scope\">Ámbito de una variable</a></li>\n",
    "        <li>\n",
    "            <a href=\"#quiz\">Cuestionario sobre funciones</a>\n",
    "        </li>\n",
    "    </ul>\n",
    "    <p>\n",
    "        Tiempo estimado: <strong>40 min</strong>\n",
    "    </p>\n",
    "</div>\n",
    "\n",
    "<hr>"
   ]
  },
  {
   "cell_type": "markdown",
   "metadata": {
    "application/vnd.databricks.v1+cell": {
     "inputWidgets": {},
     "nuid": "13571639-e6d4-4602-844e-4aa79218fa74",
     "showTitle": false,
     "title": ""
    }
   },
   "source": [
    "<h2 id=\"func\">Funciones</h2>"
   ]
  },
  {
   "cell_type": "markdown",
   "metadata": {
    "application/vnd.databricks.v1+cell": {
     "inputWidgets": {},
     "nuid": "96dab811-6c89-442c-b65d-defb9dd87811",
     "showTitle": false,
     "title": ""
    }
   },
   "source": [
    "Una función es un bloque de código reutilizable que realiza las operaciones especificadas en la función. Le permiten dividir las tareas y reutilizar su código en diferentes programas.\n",
    "\n",
    "Hay dos tipos de funciones:\n",
    "\n",
    "- <b>Funciones predefinidas</b>\n",
    "- <b>Funciones definidas por el usuario</b>"
   ]
  },
  {
   "cell_type": "markdown",
   "metadata": {
    "application/vnd.databricks.v1+cell": {
     "inputWidgets": {},
     "nuid": "afaded6e-161a-4261-ab35-34643ed4f714",
     "showTitle": false,
     "title": ""
    }
   },
   "source": [
    "<h3 id=\"content\">¿Qué es una función?</h3>"
   ]
  },
  {
   "cell_type": "markdown",
   "metadata": {
    "application/vnd.databricks.v1+cell": {
     "inputWidgets": {},
     "nuid": "4b0e9080-64a8-4bb5-a83d-f27a0d47403c",
     "showTitle": false,
     "title": ""
    }
   },
   "source": [
    "Puede definir funciones para proporcionar la funcionalidad requerida. Aquí hay reglas simples para definir una función en Python:\n",
    "- Los bloques de funciones comienzan <code> def </code> seguidos por la función <code> name </code> y entre paréntesis <code> () </code>.\n",
    "- Hay parámetros de entrada o argumentos que deben colocarse entre estos paréntesis.\n",
    "- También puede definir parámetros dentro de estos paréntesis.\n",
    "- Hay un cuerpo dentro de cada función que comienza con dos puntos (<code>: </code>) y tiene sangría.\n",
    "- También puede colocar la documentación antes del cuerpo.\n",
    "- La instrucción <code> return </code> sale de una función y, opcionalmente, devuelve un valor.\n",
    "\n",
    "Un ejemplo de una función que se agrega al parámetro <code> a </code> imprime y devuelve la salida como <code> b </code>:"
   ]
  },
  {
   "cell_type": "code",
   "execution_count": 2,
   "metadata": {
    "application/vnd.databricks.v1+cell": {
     "inputWidgets": {},
     "nuid": "23ae1237-2271-44e1-b667-b04f4c24cfce",
     "showTitle": false,
     "title": ""
    },
    "collapsed": true
   },
   "outputs": [],
   "source": [
    "# Primer ejemplo de funcion:  Suma 1 en a y almacena en b\n",
    "\n",
    "def sum(a):\n",
    "    b = a + 1\n",
    "    print(a, \"si sumas 1\", b)\n",
    "    return(b)"
   ]
  },
  {
   "cell_type": "markdown",
   "metadata": {
    "application/vnd.databricks.v1+cell": {
     "inputWidgets": {},
     "nuid": "a15ac0e8-e1bc-477a-a490-1b3babeb6d94",
     "showTitle": false,
     "title": ""
    }
   },
   "source": [
    "La siguiente figura ilustra la terminología:"
   ]
  },
  {
   "cell_type": "markdown",
   "metadata": {
    "application/vnd.databricks.v1+cell": {
     "inputWidgets": {},
     "nuid": "954fa6f5-17d5-4ae8-ba37-db8126cff268",
     "showTitle": false,
     "title": ""
    }
   },
   "source": [
    "<img src=\"https://s3-api.us-geo.objectstorage.softlayer.net/cf-courses-data/CognitiveClass/PY0101EN/Chapter%203/Images/FuncsDefinition.png\" width=\"500\" />"
   ]
  },
  {
   "cell_type": "markdown",
   "metadata": {
    "application/vnd.databricks.v1+cell": {
     "inputWidgets": {},
     "nuid": "25a5f9bd-4b91-47a4-bef2-ca94ab4556dd",
     "showTitle": false,
     "title": ""
    }
   },
   "source": [
    "Podemos obtener ayuda sobre una función:"
   ]
  },
  {
   "cell_type": "code",
   "execution_count": 13,
   "metadata": {
    "application/vnd.databricks.v1+cell": {
     "inputWidgets": {},
     "nuid": "55abf0db-a976-4472-bc13-9a16112a6859",
     "showTitle": false,
     "title": ""
    }
   },
   "outputs": [
    {
     "ename": "NameError",
     "evalue": "name 'add' is not defined",
     "output_type": "error",
     "traceback": [
      "\u001b[1;31m---------------------------------------------------------------------------\u001b[0m",
      "\u001b[1;31mNameError\u001b[0m                                 Traceback (most recent call last)",
      "Cell \u001b[1;32mIn[13], line 3\u001b[0m\n\u001b[0;32m      1\u001b[0m \u001b[38;5;66;03m# Get a help on add function\u001b[39;00m\n\u001b[1;32m----> 3\u001b[0m help(add)\n",
      "\u001b[1;31mNameError\u001b[0m: name 'add' is not defined"
     ]
    }
   ],
   "source": [
    "# Get a help on add function\n",
    "\n",
    "help(add)"
   ]
  },
  {
   "cell_type": "markdown",
   "metadata": {
    "application/vnd.databricks.v1+cell": {
     "inputWidgets": {},
     "nuid": "f7928b5a-1b63-4407-b706-edcf9e96ac7f",
     "showTitle": false,
     "title": ""
    }
   },
   "source": [
    "Podemos llamar a la función:"
   ]
  },
  {
   "cell_type": "code",
   "execution_count": 0,
   "metadata": {
    "application/vnd.databricks.v1+cell": {
     "inputWidgets": {},
     "nuid": "33dc2565-7a62-44dd-878a-05a15cbaf533",
     "showTitle": false,
     "title": ""
    }
   },
   "outputs": [],
   "source": [
    "# Call the function add()\n",
    "\n",
    "add(1)"
   ]
  },
  {
   "cell_type": "markdown",
   "metadata": {
    "application/vnd.databricks.v1+cell": {
     "inputWidgets": {},
     "nuid": "ad744100-210c-420f-8eb2-82fe64268134",
     "showTitle": false,
     "title": ""
    }
   },
   "source": [
    "Si llamamos a la función con una nueva entrada obtenemos un nuevo resultado:"
   ]
  },
  {
   "cell_type": "code",
   "execution_count": 4,
   "metadata": {
    "application/vnd.databricks.v1+cell": {
     "inputWidgets": {},
     "nuid": "b22d1933-c3ae-4a8e-84d7-929d526df799",
     "showTitle": false,
     "title": ""
    }
   },
   "outputs": [
    {
     "ename": "NameError",
     "evalue": "name 'add' is not defined",
     "output_type": "error",
     "traceback": [
      "\u001b[1;31m---------------------------------------------------------------------------\u001b[0m",
      "\u001b[1;31mNameError\u001b[0m                                 Traceback (most recent call last)",
      "Cell \u001b[1;32mIn[4], line 3\u001b[0m\n\u001b[0;32m      1\u001b[0m \u001b[38;5;66;03m# Call the function add()\u001b[39;00m\n\u001b[1;32m----> 3\u001b[0m add(\u001b[38;5;241m2\u001b[39m)\n",
      "\u001b[1;31mNameError\u001b[0m: name 'add' is not defined"
     ]
    }
   ],
   "source": [
    "# Call the function add()\n",
    "\n",
    "add(2)"
   ]
  },
  {
   "cell_type": "markdown",
   "metadata": {
    "application/vnd.databricks.v1+cell": {
     "inputWidgets": {},
     "nuid": "ff1f8f6b-24ac-4e86-b1ae-4b1fe26fd832",
     "showTitle": false,
     "title": ""
    }
   },
   "source": [
    "Podemos crear diferentes funciones. Por ejemplo, podemos crear una función que multiplique dos números. Los números estarán representados por las variables <code> a </code> y <code> b </code>:"
   ]
  },
  {
   "cell_type": "code",
   "execution_count": 7,
   "metadata": {
    "application/vnd.databricks.v1+cell": {
     "inputWidgets": {},
     "nuid": "c46c7a58-8022-4231-b4f9-7a592d384020",
     "showTitle": false,
     "title": ""
    },
    "collapsed": true
   },
   "outputs": [],
   "source": [
    "# Define a function for multiple two numbers\n",
    "\n",
    "def Mult(a, b):\n",
    "    c = a * b\n",
    "    return(c)"
   ]
  },
  {
   "cell_type": "markdown",
   "metadata": {
    "application/vnd.databricks.v1+cell": {
     "inputWidgets": {},
     "nuid": "da5b7a12-450d-4a8d-91be-ab4634692504",
     "showTitle": false,
     "title": ""
    }
   },
   "source": [
    "La misma función se puede utilizar para diferentes tipos de datos. Por ejemplo, podemos multiplicar dos números enteros:"
   ]
  },
  {
   "cell_type": "code",
   "execution_count": 8,
   "metadata": {
    "application/vnd.databricks.v1+cell": {
     "inputWidgets": {},
     "nuid": "843c5881-0e7f-44eb-80f2-a8ed0b484a16",
     "showTitle": false,
     "title": ""
    }
   },
   "outputs": [
    {
     "data": {
      "text/plain": [
       "6"
      ]
     },
     "execution_count": 8,
     "metadata": {},
     "output_type": "execute_result"
    }
   ],
   "source": [
    "# Use mult() multiply two integers\n",
    "\n",
    "Mult(2, 3)"
   ]
  },
  {
   "cell_type": "markdown",
   "metadata": {
    "application/vnd.databricks.v1+cell": {
     "inputWidgets": {},
     "nuid": "ad049183-4847-4581-8979-0c4684d4b61c",
     "showTitle": false,
     "title": ""
    }
   },
   "source": [
    "Dos Floats:"
   ]
  },
  {
   "cell_type": "code",
   "execution_count": 9,
   "metadata": {
    "application/vnd.databricks.v1+cell": {
     "inputWidgets": {},
     "nuid": "b1a10eb6-7811-4cdc-b8a5-9145f50836dc",
     "showTitle": false,
     "title": ""
    }
   },
   "outputs": [
    {
     "data": {
      "text/plain": [
       "31.400000000000002"
      ]
     },
     "execution_count": 9,
     "metadata": {},
     "output_type": "execute_result"
    }
   ],
   "source": [
    "# Use mult() multiply two floats\n",
    "\n",
    "Mult(10.0, 3.14)"
   ]
  },
  {
   "cell_type": "markdown",
   "metadata": {
    "application/vnd.databricks.v1+cell": {
     "inputWidgets": {},
     "nuid": "c22d8918-8502-42c6-83f9-183cbab895c7",
     "showTitle": false,
     "title": ""
    }
   },
   "source": [
    "Incluso podemos replicar una cadena multiplicándola por un número entero:"
   ]
  },
  {
   "cell_type": "code",
   "execution_count": 10,
   "metadata": {
    "application/vnd.databricks.v1+cell": {
     "inputWidgets": {},
     "nuid": "581d3dbd-08a4-4276-a676-a596a4ac9deb",
     "showTitle": false,
     "title": ""
    }
   },
   "outputs": [
    {
     "data": {
      "text/plain": [
       "'Michael Jackson Michael Jackson '"
      ]
     },
     "execution_count": 10,
     "metadata": {},
     "output_type": "execute_result"
    }
   ],
   "source": [
    "# Use mult() multiply two different type values together\n",
    "\n",
    "Mult(2, \"Michael Jackson \")"
   ]
  },
  {
   "cell_type": "markdown",
   "metadata": {
    "application/vnd.databricks.v1+cell": {
     "inputWidgets": {},
     "nuid": "99635cf1-9fb4-4af4-b4b5-f118444e3123",
     "showTitle": false,
     "title": ""
    }
   },
   "source": [
    "<h3 id=\"var\">Variables</h3>"
   ]
  },
  {
   "cell_type": "markdown",
   "metadata": {
    "application/vnd.databricks.v1+cell": {
     "inputWidgets": {},
     "nuid": "ee3cad54-592e-41c9-9e03-7c565b157cd9",
     "showTitle": false,
     "title": ""
    }
   },
   "source": [
    "La entrada a una función se llama parámetro formal.\n",
    "\n",
    "Una variable que se declara dentro de una función se llama variable local. El parámetro solo existe dentro de la función (es decir, el punto donde la función comienza y se detiene).\n",
    "\n",
    "Una variable que se declara fuera de la definición de una función es una variable global, y su valor es accesible y modificable en todo el programa. Discutiremos más sobre las variables globales al final de la práctica de laboratorio."
   ]
  },
  {
   "cell_type": "code",
   "execution_count": 11,
   "metadata": {
    "application/vnd.databricks.v1+cell": {
     "inputWidgets": {},
     "nuid": "3b2c0a6c-959d-4a02-a41e-7264f4bee4aa",
     "showTitle": false,
     "title": ""
    }
   },
   "outputs": [],
   "source": [
    "# Function Definition\n",
    "\n",
    "def square(a):\n",
    "    \n",
    "    # Local variable b\n",
    "    b = 1\n",
    "    c = a * a + b\n",
    "    print(a, \"if you square + 1\", c) \n",
    "    return(c)"
   ]
  },
  {
   "cell_type": "markdown",
   "metadata": {
    "application/vnd.databricks.v1+cell": {
     "inputWidgets": {},
     "nuid": "96ca4ced-479d-445c-84f2-0370b10c8c78",
     "showTitle": false,
     "title": ""
    }
   },
   "source": [
    "Las etiquetas se muestran en la figura:"
   ]
  },
  {
   "cell_type": "markdown",
   "metadata": {
    "application/vnd.databricks.v1+cell": {
     "inputWidgets": {},
     "nuid": "92c70547-f96e-4c96-b251-c7dc2857ab8c",
     "showTitle": false,
     "title": ""
    }
   },
   "source": [
    "<img src=\"https://s3-api.us-geo.objectstorage.softlayer.net/cf-courses-data/CognitiveClass/PY0101EN/Chapter%203/Images/FuncsVar.png\" width=\"500\" />"
   ]
  },
  {
   "cell_type": "markdown",
   "metadata": {
    "application/vnd.databricks.v1+cell": {
     "inputWidgets": {},
     "nuid": "2f61bdbd-072b-4b23-930d-9f93897c3c1a",
     "showTitle": false,
     "title": ""
    }
   },
   "source": [
    "Podemos llamar a la función con una entrada de <b> 3 </b>:"
   ]
  },
  {
   "cell_type": "code",
   "execution_count": 12,
   "metadata": {
    "application/vnd.databricks.v1+cell": {
     "inputWidgets": {},
     "nuid": "8c8a35b7-12bb-47bc-8d3f-8d36d132035c",
     "showTitle": false,
     "title": ""
    }
   },
   "outputs": [
    {
     "name": "stdout",
     "output_type": "stream",
     "text": [
      "3 if you square + 1 10\n"
     ]
    },
    {
     "data": {
      "text/plain": [
       "10"
      ]
     },
     "execution_count": 12,
     "metadata": {},
     "output_type": "execute_result"
    }
   ],
   "source": [
    "# Initializes Global variable  \n",
    "\n",
    "x = 3\n",
    "# Makes function call and return function a y\n",
    "y = square(x)\n",
    "y"
   ]
  },
  {
   "cell_type": "markdown",
   "metadata": {
    "application/vnd.databricks.v1+cell": {
     "inputWidgets": {},
     "nuid": "22f6b5d8-8163-4357-8783-14265eb4dedc",
     "showTitle": false,
     "title": ""
    }
   },
   "source": [
    "Podemos llamar a la función con una entrada de <b> 2 </b> de una manera diferente:"
   ]
  },
  {
   "cell_type": "code",
   "execution_count": 14,
   "metadata": {
    "application/vnd.databricks.v1+cell": {
     "inputWidgets": {},
     "nuid": "ad253329-312f-4480-af9d-05dcde3a3007",
     "showTitle": false,
     "title": ""
    }
   },
   "outputs": [
    {
     "name": "stdout",
     "output_type": "stream",
     "text": [
      "2 if you square + 1 5\n"
     ]
    },
    {
     "data": {
      "text/plain": [
       "5"
      ]
     },
     "execution_count": 14,
     "metadata": {},
     "output_type": "execute_result"
    }
   ],
   "source": [
    "# Directly enter a number as parameter\n",
    "\n",
    "square(2)"
   ]
  },
  {
   "cell_type": "markdown",
   "metadata": {
    "application/vnd.databricks.v1+cell": {
     "inputWidgets": {},
     "nuid": "92114a8b-b818-4b97-837c-32afae2158ef",
     "showTitle": false,
     "title": ""
    }
   },
   "source": [
    "Si no hay una instrucción <code> return </code>, la función devuelve <code> None </code>. Las siguientes dos funciones son equivalentes:"
   ]
  },
  {
   "cell_type": "code",
   "execution_count": 15,
   "metadata": {
    "application/vnd.databricks.v1+cell": {
     "inputWidgets": {},
     "nuid": "394a1550-5987-43bd-8aef-8c9fd752347b",
     "showTitle": false,
     "title": ""
    }
   },
   "outputs": [],
   "source": [
    "# Define functions, one with return value None and other without return value\n",
    "\n",
    "def MJ():\n",
    "    print('Michael Jackson')\n",
    "    \n",
    "def MJ1():\n",
    "    print('Michael Jackson')\n",
    "    return(None)"
   ]
  },
  {
   "cell_type": "code",
   "execution_count": 16,
   "metadata": {
    "application/vnd.databricks.v1+cell": {
     "inputWidgets": {},
     "nuid": "a95eca71-63c0-43bc-94f4-1c1ef3251e34",
     "showTitle": false,
     "title": ""
    }
   },
   "outputs": [
    {
     "name": "stdout",
     "output_type": "stream",
     "text": [
      "Michael Jackson\n"
     ]
    }
   ],
   "source": [
    "# See the output\n",
    "\n",
    "MJ()"
   ]
  },
  {
   "cell_type": "code",
   "execution_count": 17,
   "metadata": {
    "application/vnd.databricks.v1+cell": {
     "inputWidgets": {},
     "nuid": "4599eec7-2bc3-42ee-96c2-61b4f51c7a50",
     "showTitle": false,
     "title": ""
    }
   },
   "outputs": [
    {
     "name": "stdout",
     "output_type": "stream",
     "text": [
      "Michael Jackson\n"
     ]
    }
   ],
   "source": [
    "# See the output\n",
    "\n",
    "MJ1()"
   ]
  },
  {
   "cell_type": "markdown",
   "metadata": {
    "application/vnd.databricks.v1+cell": {
     "inputWidgets": {},
     "nuid": "fab12278-8363-4cbd-8765-8ff3937eba52",
     "showTitle": false,
     "title": ""
    }
   },
   "source": [
    "La impresión de la función después de una llamada revela ** None ** es la declaración de retorno predeterminada:"
   ]
  },
  {
   "cell_type": "code",
   "execution_count": 18,
   "metadata": {
    "application/vnd.databricks.v1+cell": {
     "inputWidgets": {},
     "nuid": "ee4f5608-6f6d-46c3-8d0b-2b53d7d757b5",
     "showTitle": false,
     "title": ""
    }
   },
   "outputs": [
    {
     "name": "stdout",
     "output_type": "stream",
     "text": [
      "Michael Jackson\n",
      "None\n",
      "Michael Jackson\n",
      "None\n"
     ]
    }
   ],
   "source": [
    "# See what functions returns are\n",
    "\n",
    "print(MJ())\n",
    "print(MJ1())"
   ]
  },
  {
   "cell_type": "markdown",
   "metadata": {
    "application/vnd.databricks.v1+cell": {
     "inputWidgets": {},
     "nuid": "0b2c0e5c-fcad-46a4-8d00-57d760c35877",
     "showTitle": false,
     "title": ""
    }
   },
   "source": [
    "Cree una función <code> con </code> que concatene dos cadenas usando la operación de suma:"
   ]
  },
  {
   "cell_type": "code",
   "execution_count": 19,
   "metadata": {
    "application/vnd.databricks.v1+cell": {
     "inputWidgets": {},
     "nuid": "ddb31c83-d084-4d86-aeaa-7f6f257cfef8",
     "showTitle": false,
     "title": ""
    },
    "collapsed": true
   },
   "outputs": [],
   "source": [
    "# Define the function for combining strings\n",
    "\n",
    "def con(a, b):\n",
    "    return(a + b)"
   ]
  },
  {
   "cell_type": "code",
   "execution_count": 20,
   "metadata": {
    "application/vnd.databricks.v1+cell": {
     "inputWidgets": {},
     "nuid": "21c97206-8e72-4f3b-a080-1165069c0e22",
     "showTitle": false,
     "title": ""
    }
   },
   "outputs": [
    {
     "data": {
      "text/plain": [
       "'This is'"
      ]
     },
     "execution_count": 20,
     "metadata": {},
     "output_type": "execute_result"
    }
   ],
   "source": [
    "# Test on the con() function\n",
    "\n",
    "con(\"This \", \"is\")"
   ]
  },
  {
   "cell_type": "markdown",
   "metadata": {
    "application/vnd.databricks.v1+cell": {
     "inputWidgets": {},
     "nuid": "cd75ff9e-f20a-4690-b489-20dcb5173208",
     "showTitle": false,
     "title": ""
    }
   },
   "source": [
    "<h3 id=\"simple\">Las funciones hacen las cosas más fáciles</h3>"
   ]
  },
  {
   "cell_type": "markdown",
   "metadata": {
    "application/vnd.databricks.v1+cell": {
     "inputWidgets": {},
     "nuid": "8b3d727b-bff9-49e2-9dca-bb0df7ac9fdd",
     "showTitle": false,
     "title": ""
    }
   },
   "source": [
    "Considere las dos líneas de código en <b> Block 1 </b> y <b> Block 2 </b>: el procedimiento para cada bloque es idéntico. Lo único que es diferente son los nombres y valores de las variables."
   ]
  },
  {
   "cell_type": "markdown",
   "metadata": {
    "application/vnd.databricks.v1+cell": {
     "inputWidgets": {},
     "nuid": "e4be1616-c9f6-41c5-810e-d713e730b952",
     "showTitle": false,
     "title": ""
    }
   },
   "source": [
    "<h4>Block 1:</h4>"
   ]
  },
  {
   "cell_type": "code",
   "execution_count": 21,
   "metadata": {
    "application/vnd.databricks.v1+cell": {
     "inputWidgets": {},
     "nuid": "a7b41b16-7954-4baa-b0b1-8a7053dd8a0c",
     "showTitle": false,
     "title": ""
    }
   },
   "outputs": [
    {
     "data": {
      "text/plain": [
       "5"
      ]
     },
     "execution_count": 21,
     "metadata": {},
     "output_type": "execute_result"
    }
   ],
   "source": [
    "# a and b calculation block1\n",
    "\n",
    "a1 = 4\n",
    "b1 = 5\n",
    "c1 = a1 + b1 + 2 * a1 * b1 - 1\n",
    "if(c1 < 0):\n",
    "    c1 = 0 \n",
    "else:\n",
    "    c1 = 5\n",
    "c1   "
   ]
  },
  {
   "cell_type": "markdown",
   "metadata": {
    "application/vnd.databricks.v1+cell": {
     "inputWidgets": {},
     "nuid": "88ba43cc-ce33-4c85-af81-5cf079df3cbd",
     "showTitle": false,
     "title": ""
    }
   },
   "source": [
    "<h4>Block 2:</h4>"
   ]
  },
  {
   "cell_type": "code",
   "execution_count": 22,
   "metadata": {
    "application/vnd.databricks.v1+cell": {
     "inputWidgets": {},
     "nuid": "1ae20e11-58f2-4883-889f-9f1a69633965",
     "showTitle": false,
     "title": ""
    }
   },
   "outputs": [
    {
     "data": {
      "text/plain": [
       "0"
      ]
     },
     "execution_count": 22,
     "metadata": {},
     "output_type": "execute_result"
    }
   ],
   "source": [
    "# a and b calculation block2\n",
    "\n",
    "a2 = 0\n",
    "b2 = 0\n",
    "c2 = a2 + b2 + 2 * a2 * b2 - 1\n",
    "if(c2 < 0):\n",
    "    c2 = 0 \n",
    "else:\n",
    "    c2 = 5\n",
    "c2   "
   ]
  },
  {
   "cell_type": "markdown",
   "metadata": {
    "application/vnd.databricks.v1+cell": {
     "inputWidgets": {},
     "nuid": "1fdfbbe9-1623-43de-b8b4-6932a862946c",
     "showTitle": false,
     "title": ""
    }
   },
   "source": [
    "Podemos reemplazar las líneas de código con una función. Una función combina muchas instrucciones en una sola línea de código. Una vez que se define una función, se puede utilizar repetidamente. Puede invocar la misma función muchas veces en su programa. Puede guardar su función y usarla en otro programa o usar la función de otra persona. Las líneas de código en el código <b> Block 1 </b> y el código <b> Block 2 </b> se pueden reemplazar por la siguiente función:"
   ]
  },
  {
   "cell_type": "code",
   "execution_count": 23,
   "metadata": {
    "application/vnd.databricks.v1+cell": {
     "inputWidgets": {},
     "nuid": "274ac366-9813-4d38-9f37-67479767b8e1",
     "showTitle": false,
     "title": ""
    }
   },
   "outputs": [],
   "source": [
    "# Make a Function for the calculation above\n",
    "\n",
    "def Equation(a,b):\n",
    "    c = a + b + 2 * a * b - 1\n",
    "    if(c < 0):\n",
    "        c = 0 \n",
    "    else:\n",
    "        c = 5\n",
    "    return(c) "
   ]
  },
  {
   "cell_type": "markdown",
   "metadata": {
    "application/vnd.databricks.v1+cell": {
     "inputWidgets": {},
     "nuid": "31c93776-d4be-4e8e-8aba-e3bff77ce9a6",
     "showTitle": false,
     "title": ""
    }
   },
   "source": [
    "Esta función toma dos entradas, ayb, luego aplica varias operaciones para devolver c.\n",
    "Simplemente definimos la función, reemplazamos las instrucciones con la función e ingresamos los nuevos valores de <code> a1 </code>, <code> b1 </code> y <code> a2 </code>, <code> b2 </code> como entradas. Todo el proceso se demuestra en la figura:"
   ]
  },
  {
   "cell_type": "markdown",
   "metadata": {
    "application/vnd.databricks.v1+cell": {
     "inputWidgets": {},
     "nuid": "e5f70df0-81d3-481e-979c-87817863031d",
     "showTitle": false,
     "title": ""
    }
   },
   "source": [
    "<img src=\"https://s3-api.us-geo.objectstorage.softlayer.net/cf-courses-data/CognitiveClass/PY0101EN/Chapter%203/Images/FuncsPros.gif\" width=\"850\" />"
   ]
  },
  {
   "cell_type": "markdown",
   "metadata": {
    "application/vnd.databricks.v1+cell": {
     "inputWidgets": {},
     "nuid": "7f9205f1-ca0f-4eed-9b89-6db46169e6be",
     "showTitle": false,
     "title": ""
    }
   },
   "source": [
    "El código ** Block 1 ** y ** Block 2 ** ahora se pueden reemplazar con el código ** Block 3 ** y el código ** Block 4 **."
   ]
  },
  {
   "cell_type": "markdown",
   "metadata": {
    "application/vnd.databricks.v1+cell": {
     "inputWidgets": {},
     "nuid": "3b2474cf-ca06-41fb-a62f-173b2336be42",
     "showTitle": false,
     "title": ""
    }
   },
   "source": [
    "<h4>Block 3:</h4>"
   ]
  },
  {
   "cell_type": "code",
   "execution_count": 24,
   "metadata": {
    "application/vnd.databricks.v1+cell": {
     "inputWidgets": {},
     "nuid": "c32abb06-f92f-4414-932a-6e7ec9f4a153",
     "showTitle": false,
     "title": ""
    }
   },
   "outputs": [
    {
     "data": {
      "text/plain": [
       "5"
      ]
     },
     "execution_count": 24,
     "metadata": {},
     "output_type": "execute_result"
    }
   ],
   "source": [
    "a1 = 4\n",
    "b1 = 5\n",
    "c1 = Equation(a1, b1)\n",
    "c1"
   ]
  },
  {
   "cell_type": "markdown",
   "metadata": {
    "application/vnd.databricks.v1+cell": {
     "inputWidgets": {},
     "nuid": "83748f9a-1011-40cc-9307-edbb513d40cc",
     "showTitle": false,
     "title": ""
    }
   },
   "source": [
    "<h4>Block 4:</h4>"
   ]
  },
  {
   "cell_type": "code",
   "execution_count": 25,
   "metadata": {
    "application/vnd.databricks.v1+cell": {
     "inputWidgets": {},
     "nuid": "7e52961b-e3c7-4a02-adbb-b2e85b1df9e8",
     "showTitle": false,
     "title": ""
    }
   },
   "outputs": [
    {
     "data": {
      "text/plain": [
       "0"
      ]
     },
     "execution_count": 25,
     "metadata": {},
     "output_type": "execute_result"
    }
   ],
   "source": [
    "a2 = 0\n",
    "b2 = 0\n",
    "c2 = Equation(a2, b2)\n",
    "c2"
   ]
  },
  {
   "cell_type": "markdown",
   "metadata": {
    "application/vnd.databricks.v1+cell": {
     "inputWidgets": {},
     "nuid": "969ef94c-597e-4a0f-8a6b-e5b40583c750",
     "showTitle": false,
     "title": ""
    }
   },
   "source": [
    "<h2 id=\"pre\">Funciones predefinidas</h2>"
   ]
  },
  {
   "cell_type": "markdown",
   "metadata": {
    "application/vnd.databricks.v1+cell": {
     "inputWidgets": {},
     "nuid": "342e7f08-7a5e-4ffb-bb0f-fd631b879738",
     "showTitle": false,
     "title": ""
    }
   },
   "source": [
    "Hay muchas funciones predefinidas en Python, así que comencemos con las más simples."
   ]
  },
  {
   "cell_type": "markdown",
   "metadata": {
    "application/vnd.databricks.v1+cell": {
     "inputWidgets": {},
     "nuid": "1fb45bf0-29ac-437a-af78-6f1fe86f68bd",
     "showTitle": false,
     "title": ""
    }
   },
   "source": [
    "La función <code> print () </code>:"
   ]
  },
  {
   "cell_type": "code",
   "execution_count": 26,
   "metadata": {
    "application/vnd.databricks.v1+cell": {
     "inputWidgets": {},
     "nuid": "4f556d55-310d-47fa-b198-edc8a1502b9f",
     "showTitle": false,
     "title": ""
    }
   },
   "outputs": [
    {
     "name": "stdout",
     "output_type": "stream",
     "text": [
      "[10.0, 8.5, 9.5, 7.0, 7.0, 9.5, 9.0, 9.5]\n"
     ]
    }
   ],
   "source": [
    "# Build-in function print()\n",
    "\n",
    "album_ratings = [10.0, 8.5, 9.5, 7.0, 7.0, 9.5, 9.0, 9.5] \n",
    "print(album_ratings)"
   ]
  },
  {
   "cell_type": "markdown",
   "metadata": {
    "application/vnd.databricks.v1+cell": {
     "inputWidgets": {},
     "nuid": "05d78052-25cd-462e-8e68-19db81c24f6a",
     "showTitle": false,
     "title": ""
    }
   },
   "source": [
    "La función <code> sum () </code> agrega todos los elementos en una lista o tupla:"
   ]
  },
  {
   "cell_type": "code",
   "execution_count": 27,
   "metadata": {
    "application/vnd.databricks.v1+cell": {
     "inputWidgets": {},
     "nuid": "651822ef-ccb0-459b-b7c5-224983af53de",
     "showTitle": false,
     "title": ""
    }
   },
   "outputs": [
    {
     "ename": "TypeError",
     "evalue": "can only concatenate list (not \"int\") to list",
     "output_type": "error",
     "traceback": [
      "\u001b[1;31m---------------------------------------------------------------------------\u001b[0m",
      "\u001b[1;31mTypeError\u001b[0m                                 Traceback (most recent call last)",
      "Cell \u001b[1;32mIn[27], line 3\u001b[0m\n\u001b[0;32m      1\u001b[0m \u001b[38;5;66;03m# Use sum() to add every element in a list or tuple together\u001b[39;00m\n\u001b[1;32m----> 3\u001b[0m \u001b[38;5;28msum\u001b[39m(album_ratings)\n",
      "Cell \u001b[1;32mIn[2], line 4\u001b[0m, in \u001b[0;36msum\u001b[1;34m(a)\u001b[0m\n\u001b[0;32m      3\u001b[0m \u001b[38;5;28;01mdef\u001b[39;00m \u001b[38;5;21msum\u001b[39m(a):\n\u001b[1;32m----> 4\u001b[0m     b \u001b[38;5;241m=\u001b[39m a \u001b[38;5;241m+\u001b[39m \u001b[38;5;241m1\u001b[39m\n\u001b[0;32m      5\u001b[0m     \u001b[38;5;28mprint\u001b[39m(a, \u001b[38;5;124m\"\u001b[39m\u001b[38;5;124msi sumas 1\u001b[39m\u001b[38;5;124m\"\u001b[39m, b)\n\u001b[0;32m      6\u001b[0m     \u001b[38;5;28;01mreturn\u001b[39;00m(b)\n",
      "\u001b[1;31mTypeError\u001b[0m: can only concatenate list (not \"int\") to list"
     ]
    }
   ],
   "source": [
    "# Use sum() to add every element in a list or tuple together\n",
    "\n",
    "sum(album_ratings)"
   ]
  },
  {
   "cell_type": "markdown",
   "metadata": {
    "application/vnd.databricks.v1+cell": {
     "inputWidgets": {},
     "nuid": "31e5589a-df9a-4536-9d57-e1fc99c8b7ec",
     "showTitle": false,
     "title": ""
    }
   },
   "source": [
    "La función <code> len () </code> devuelve la longitud de una lista o tupla:"
   ]
  },
  {
   "cell_type": "code",
   "execution_count": 29,
   "metadata": {
    "application/vnd.databricks.v1+cell": {
     "inputWidgets": {},
     "nuid": "91e59e37-fb0b-4773-afb5-7d2ef4f32db1",
     "showTitle": false,
     "title": ""
    }
   },
   "outputs": [
    {
     "data": {
      "text/plain": [
       "8"
      ]
     },
     "execution_count": 29,
     "metadata": {},
     "output_type": "execute_result"
    }
   ],
   "source": [
    "# Show the length of the list or tuple\n",
    "\n",
    "len(album_ratings)"
   ]
  },
  {
   "cell_type": "markdown",
   "metadata": {
    "application/vnd.databricks.v1+cell": {
     "inputWidgets": {},
     "nuid": "9df99c76-1929-4bd4-9f09-d37c3ae58ee8",
     "showTitle": false,
     "title": ""
    }
   },
   "source": [
    "<h2 id=\"if\">Utilizando <code>if</code>/<code>else</code> y ciclos en Funciones</h2>"
   ]
  },
  {
   "cell_type": "markdown",
   "metadata": {
    "application/vnd.databricks.v1+cell": {
     "inputWidgets": {},
     "nuid": "69de84db-d056-4baa-b841-0488b7e4e3fa",
     "showTitle": false,
     "title": ""
    }
   },
   "source": [
    "La función <code> return () </code> es particularmente útil si tiene alguna declaración IF en la función, cuando desea que su salida dependa de alguna condición:"
   ]
  },
  {
   "cell_type": "code",
   "execution_count": 30,
   "metadata": {
    "application/vnd.databricks.v1+cell": {
     "inputWidgets": {},
     "nuid": "6d308671-bad3-4ded-8cea-2f29b5efc566",
     "showTitle": false,
     "title": ""
    }
   },
   "outputs": [
    {
     "name": "stdout",
     "output_type": "stream",
     "text": [
      "Michael Jackson Thriller 1980\n",
      "Oldie\n"
     ]
    }
   ],
   "source": [
    "# Function example\n",
    "\n",
    "def type_of_album(artist, album, year_released):\n",
    "    \n",
    "    print(artist, album, year_released)\n",
    "    if year_released > 1980:\n",
    "        return \"Modern\"\n",
    "    else:\n",
    "        return \"Oldie\"\n",
    "    \n",
    "x = type_of_album(\"Michael Jackson\", \"Thriller\", 1980)\n",
    "print(x)"
   ]
  },
  {
   "cell_type": "markdown",
   "metadata": {
    "application/vnd.databricks.v1+cell": {
     "inputWidgets": {},
     "nuid": "47f208d2-34e1-449a-aff5-8c8c157baf39",
     "showTitle": false,
     "title": ""
    }
   },
   "source": [
    "Podemos usar un bucle en una función. Por ejemplo, podemos <code> imprimir </code> cada elemento en una lista:"
   ]
  },
  {
   "cell_type": "code",
   "execution_count": 31,
   "metadata": {
    "application/vnd.databricks.v1+cell": {
     "inputWidgets": {},
     "nuid": "1b732929-dd84-4c8a-ada5-f09b835f56e0",
     "showTitle": false,
     "title": ""
    },
    "collapsed": true
   },
   "outputs": [],
   "source": [
    "# Print the list using for loop\n",
    "\n",
    "def PrintList(the_list):\n",
    "    for element in the_list:\n",
    "        print(element)"
   ]
  },
  {
   "cell_type": "code",
   "execution_count": 32,
   "metadata": {
    "application/vnd.databricks.v1+cell": {
     "inputWidgets": {},
     "nuid": "4dd08490-6b0d-4260-a05b-6cd157bbd380",
     "showTitle": false,
     "title": ""
    }
   },
   "outputs": [
    {
     "name": "stdout",
     "output_type": "stream",
     "text": [
      "1\n",
      "1\n",
      "the man\n",
      "abc\n"
     ]
    }
   ],
   "source": [
    "# Implement the printlist function\n",
    "\n",
    "PrintList(['1', 1, 'the man', \"abc\"])"
   ]
  },
  {
   "cell_type": "markdown",
   "metadata": {
    "application/vnd.databricks.v1+cell": {
     "inputWidgets": {},
     "nuid": "3d1da400-b47b-45b3-b672-e70a3650e569",
     "showTitle": false,
     "title": ""
    }
   },
   "source": [
    "<h2 id=\"default\">Establecer valores de argumento predeterminados en sus funciones personalizadas</h2>"
   ]
  },
  {
   "cell_type": "markdown",
   "metadata": {
    "application/vnd.databricks.v1+cell": {
     "inputWidgets": {},
     "nuid": "cefd6b03-2622-4795-aa4a-34fa43ec6d96",
     "showTitle": false,
     "title": ""
    }
   },
   "source": [
    "Puede establecer un valor predeterminado para los argumentos en su función. Por ejemplo, en la función <code> isGoodRating () </code>, ¿qué pasaría si quisiéramos crear un umbral para lo que consideramos una buena calificación? Quizás de forma predeterminada, deberíamos tener una calificación predeterminada de 4:"
   ]
  },
  {
   "cell_type": "code",
   "execution_count": 33,
   "metadata": {
    "application/vnd.databricks.v1+cell": {
     "inputWidgets": {},
     "nuid": "18249a6f-58e5-4edb-a232-c2bd1d86a1f9",
     "showTitle": false,
     "title": ""
    }
   },
   "outputs": [],
   "source": [
    "# Example for setting param with default value\n",
    "\n",
    "def isGoodRating(rating=4): \n",
    "    if(rating < 7):\n",
    "        print(\"this album sucks it's rating is\",rating)\n",
    "        \n",
    "    else:\n",
    "        print(\"this album is good its rating is\",rating)\n"
   ]
  },
  {
   "cell_type": "code",
   "execution_count": 34,
   "metadata": {
    "application/vnd.databricks.v1+cell": {
     "inputWidgets": {},
     "nuid": "b7b66e1e-6d18-4bd8-b970-90c7d85e1363",
     "showTitle": false,
     "title": ""
    }
   },
   "outputs": [
    {
     "name": "stdout",
     "output_type": "stream",
     "text": [
      "this album sucks it's rating is 4\n",
      "this album is good its rating is 10\n"
     ]
    }
   ],
   "source": [
    "# Test the value with default value and with input\n",
    "\n",
    "isGoodRating()\n",
    "isGoodRating(10)"
   ]
  },
  {
   "cell_type": "markdown",
   "metadata": {
    "application/vnd.databricks.v1+cell": {
     "inputWidgets": {},
     "nuid": "35d2ba05-fd60-4ad1-b251-fd949492e7f9",
     "showTitle": false,
     "title": ""
    }
   },
   "source": [
    "<h2 id=\"global\">Variable globales</h2>"
   ]
  },
  {
   "cell_type": "markdown",
   "metadata": {
    "application/vnd.databricks.v1+cell": {
     "inputWidgets": {},
     "nuid": "ad8c5790-5b3d-4951-a3c9-39ea5ff2a997",
     "showTitle": false,
     "title": ""
    }
   },
   "source": [
    "Hasta ahora, hemos estado creando variables dentro de funciones, pero no hemos discutido variables fuera de la función. Se denominan variables globales.\n",
    "<br>\n",
    "Intentemos ver qué devuelve <code> printer1 </code>:"
   ]
  },
  {
   "cell_type": "code",
   "execution_count": 35,
   "metadata": {
    "application/vnd.databricks.v1+cell": {
     "inputWidgets": {},
     "nuid": "0041124e-07b0-4ced-8844-75737e36adcf",
     "showTitle": false,
     "title": ""
    }
   },
   "outputs": [
    {
     "name": "stdout",
     "output_type": "stream",
     "text": [
      "Michael Jackson is an artist\n"
     ]
    }
   ],
   "source": [
    "# Example of global variable\n",
    "\n",
    "artist = \"Michael Jackson\"\n",
    "def printer1(artist):\n",
    "    internal_var = artist\n",
    "    print(artist, \"is an artist\")\n",
    "    \n",
    "printer1(artist)"
   ]
  },
  {
   "cell_type": "markdown",
   "metadata": {
    "application/vnd.databricks.v1+cell": {
     "inputWidgets": {},
     "nuid": "08ebbef9-e1f6-4940-9b8a-ffbb0284d1f4",
     "showTitle": false,
     "title": ""
    }
   },
   "source": [
    "Si imprimimos <code> internal_var </code> obtenemos un error."
   ]
  },
  {
   "cell_type": "markdown",
   "metadata": {
    "application/vnd.databricks.v1+cell": {
     "inputWidgets": {},
     "nuid": "4faee21b-10fc-49f2-b5c0-d7a29728b431",
     "showTitle": false,
     "title": ""
    }
   },
   "source": [
    "<b> Tenemos un error de nombre: <code> nombre 'internal_var' no está definido </code>. ¿Por qué? </b>\n",
    "\n",
    "Es porque todas las variables que creamos en la función es una <b> variable local </b>, lo que significa que la asignación de la variable no persiste fuera de la función.\n",
    "\n",
    "Pero hay una forma de crear <b> variables globales </b> desde dentro de una función de la siguiente manera:"
   ]
  },
  {
   "cell_type": "code",
   "execution_count": 36,
   "metadata": {
    "application/vnd.databricks.v1+cell": {
     "inputWidgets": {},
     "nuid": "4d65ae60-040c-472f-b541-657915951f75",
     "showTitle": false,
     "title": ""
    }
   },
   "outputs": [
    {
     "name": "stdout",
     "output_type": "stream",
     "text": [
      "Michael Jackson is an artist\n",
      "Whitney Houston is an artist\n"
     ]
    }
   ],
   "source": [
    "artist = \"Michael Jackson\"\n",
    "\n",
    "def printer(artist):\n",
    "    global internal_var \n",
    "    internal_var= \"Whitney Houston\"\n",
    "    print(artist,\"is an artist\")\n",
    "\n",
    "printer(artist) \n",
    "printer(internal_var)"
   ]
  },
  {
   "cell_type": "markdown",
   "metadata": {
    "application/vnd.databricks.v1+cell": {
     "inputWidgets": {},
     "nuid": "bb7c1336-795f-4573-8b48-e0b06678ebab",
     "showTitle": false,
     "title": ""
    }
   },
   "source": [
    "<h2 id=\"scope\">Ámbito de una variable</h2>"
   ]
  },
  {
   "cell_type": "markdown",
   "metadata": {
    "application/vnd.databricks.v1+cell": {
     "inputWidgets": {},
     "nuid": "ab5cca33-79cf-4846-bca0-d339fcce1c1d",
     "showTitle": false,
     "title": ""
    }
   },
   "source": [
    "El alcance de una variable es la parte de ese programa donde esa variable es accesible. Las variables que se declaran fuera de todas las definiciones de funciones, como la variable <code> myFavouriteBand </code> en el código que se muestra aquí, son accesibles desde cualquier lugar dentro del programa. Como resultado, se dice que tales variables tienen alcance global y se conocen como variables globales.\n",
    "     <code> myFavouriteBand </code> es una variable global, por lo que es accesible desde la función <code> getBandRating </code>, y podemos usarla para determinar la clasificación de una banda. También podemos usarlo fuera de la función, como cuando lo pasamos a la función de impresión para mostrarlo:"
   ]
  },
  {
   "cell_type": "code",
   "execution_count": 37,
   "metadata": {
    "application/vnd.databricks.v1+cell": {
     "inputWidgets": {},
     "nuid": "680d0da1-8160-4496-a636-578602b6f7d0",
     "showTitle": false,
     "title": ""
    }
   },
   "outputs": [
    {
     "name": "stdout",
     "output_type": "stream",
     "text": [
      "AC/DC's rating is: 10.0\n",
      "Deep Purple's rating is: 0.0\n",
      "My favourite band is: AC/DC\n"
     ]
    }
   ],
   "source": [
    "# Example of global variable\n",
    "\n",
    "myFavouriteBand = \"AC/DC\"\n",
    "\n",
    "def getBandRating(bandname):\n",
    "    if bandname == myFavouriteBand:\n",
    "        return 10.0\n",
    "    else:\n",
    "        return 0.0\n",
    "\n",
    "print(\"AC/DC's rating is:\", getBandRating(\"AC/DC\"))\n",
    "print(\"Deep Purple's rating is:\",getBandRating(\"Deep Purple\"))\n",
    "print(\"My favourite band is:\", myFavouriteBand)"
   ]
  },
  {
   "cell_type": "markdown",
   "metadata": {
    "application/vnd.databricks.v1+cell": {
     "inputWidgets": {},
     "nuid": "3e155f44-3d16-4ea3-bc14-2335f5b2aff2",
     "showTitle": false,
     "title": ""
    }
   },
   "source": [
    "Eche un vistazo a esta versión modificada de nuestro código. Ahora la variable <code> myFavouriteBand </code> está definida dentro de la función <code> getBandRating </code>. Una variable que se define dentro de una función se dice que es una variable local de esa función. Eso significa que solo es accesible desde dentro de la función en la que está definido. Nuestra función <code> getBandRating </code> seguirá funcionando, porque <code> myFavouriteBand </code> todavía está definida dentro de la función. Sin embargo, ya no podemos imprimir <code> myFavouriteBand </code> fuera de nuestra función, porque es una variable local de nuestra función <code> getBandRating </code>; solo se define dentro de la función <code> getBandRating </code>:"
   ]
  },
  {
   "cell_type": "code",
   "execution_count": 38,
   "metadata": {
    "application/vnd.databricks.v1+cell": {
     "inputWidgets": {},
     "nuid": "1dcc9b39-03a6-41f5-977a-01fe0d7ab9a2",
     "showTitle": false,
     "title": ""
    }
   },
   "outputs": [
    {
     "name": "stdout",
     "output_type": "stream",
     "text": [
      "AC/DC's rating is:  10.0\n",
      "Deep Purple's rating is:  0.0\n",
      "My favourite band is AC/DC\n"
     ]
    }
   ],
   "source": [
    "# Example of local variable\n",
    "\n",
    "def getBandRating(bandname):\n",
    "    myFavouriteBand = \"AC/DC\"\n",
    "    if bandname == myFavouriteBand:\n",
    "        return 10.0\n",
    "    else:\n",
    "        return 0.0\n",
    "\n",
    "print(\"AC/DC's rating is: \", getBandRating(\"AC/DC\"))\n",
    "print(\"Deep Purple's rating is: \", getBandRating(\"Deep Purple\"))\n",
    "print(\"My favourite band is\", myFavouriteBand)"
   ]
  },
  {
   "cell_type": "markdown",
   "metadata": {
    "application/vnd.databricks.v1+cell": {
     "inputWidgets": {},
     "nuid": "81eadbad-ed79-4b45-ab3e-a476e18c804c",
     "showTitle": false,
     "title": ""
    }
   },
   "source": [
    "Finalmente, eche un vistazo a este ejemplo. Ahora tenemos dos definiciones de variable <code> myFavouriteBand </code>. El primero de ellos tiene un alcance global y el segundo es una variable local dentro de la función <code> getBandRating </code>. Dentro de la función <code> getBandRating </code>, la variable local tiene prioridad. ** Deep Purple ** recibirá una calificación de 10.0 cuando se pase a la función <code> getBandRating </code>. Sin embargo, fuera de la función <code> getBandRating </code>, la variable local <code> getBandRating </code> no está definida, por lo que la variable <code> myFavouriteBand </code> que imprimimos es la variable global, que tiene un valor de ** AC / DC **:"
   ]
  },
  {
   "cell_type": "code",
   "execution_count": 39,
   "metadata": {
    "application/vnd.databricks.v1+cell": {
     "inputWidgets": {},
     "nuid": "49508fb2-e79b-4d4a-aa06-104d85877bba",
     "showTitle": false,
     "title": ""
    }
   },
   "outputs": [
    {
     "name": "stdout",
     "output_type": "stream",
     "text": [
      "AC/DC's rating is: 0.0\n",
      "Deep Purple's rating is:  10.0\n",
      "My favourite band is: AC/DC\n"
     ]
    }
   ],
   "source": [
    "# Example of global variable and local variable with the same name\n",
    "\n",
    "myFavouriteBand = \"AC/DC\"\n",
    "\n",
    "def getBandRating(bandname):\n",
    "    myFavouriteBand = \"Deep Purple\"\n",
    "    if bandname == myFavouriteBand:\n",
    "        return 10.0\n",
    "    else:\n",
    "        return 0.0\n",
    "\n",
    "print(\"AC/DC's rating is:\",getBandRating(\"AC/DC\"))\n",
    "print(\"Deep Purple's rating is: \",getBandRating(\"Deep Purple\"))\n",
    "print(\"My favourite band is:\",myFavouriteBand)"
   ]
  },
  {
   "cell_type": "markdown",
   "metadata": {
    "application/vnd.databricks.v1+cell": {
     "inputWidgets": {},
     "nuid": "851b6283-eb16-46fe-bec7-47b67594b61d",
     "showTitle": false,
     "title": ""
    }
   },
   "source": [
    "<h2>Cuestionario sobre funciones</h2>"
   ]
  },
  {
   "cell_type": "markdown",
   "metadata": {
    "application/vnd.databricks.v1+cell": {
     "inputWidgets": {},
     "nuid": "68f62614-9c2d-4275-b042-9938d5a1c1f3",
     "showTitle": false,
     "title": ""
    }
   },
   "source": [
    "Cree una función que divida la primera entrada por la segunda entrada:"
   ]
  },
  {
   "cell_type": "code",
   "execution_count": 43,
   "metadata": {
    "application/vnd.databricks.v1+cell": {
     "inputWidgets": {},
     "nuid": "a0d4890b-a143-4d3a-803f-c07c7e76fea6",
     "showTitle": false,
     "title": ""
    }
   },
   "outputs": [],
   "source": [
    "# Escribe abajo tu código y presiona Shift+Enter para ejecutarlo\n",
    "\n",
    "#Respuesta\n",
    "def dividir(a, b):\n",
    "    if b == 0:\n",
    "        return \"No se puede dividir por cero.\"\n",
    "    return a / b\n"
   ]
  },
  {
   "cell_type": "markdown",
   "metadata": {
    "application/vnd.databricks.v1+cell": {
     "inputWidgets": {},
     "nuid": "50a50af9-012b-4ed1-8e87-17be1ea84895",
     "showTitle": false,
     "title": ""
    }
   },
   "source": [
    "Haz doble click __aquí__ para ver la solución..\n",
    "\n",
    "<!-- \n",
    "def div(a, b):\n",
    "    return(a/b)\n",
    "-->"
   ]
  },
  {
   "cell_type": "markdown",
   "metadata": {
    "application/vnd.databricks.v1+cell": {
     "inputWidgets": {},
     "nuid": "fb677ca4-4394-4412-a4b1-30c16b947b43",
     "showTitle": false,
     "title": ""
    }
   },
   "source": [
    "Utilice la función <code> con </code> para la siguiente pregunta."
   ]
  },
  {
   "cell_type": "code",
   "execution_count": 44,
   "metadata": {
    "application/vnd.databricks.v1+cell": {
     "inputWidgets": {},
     "nuid": "2057c384-d762-4402-b8ba-1cca7fced9eb",
     "showTitle": false,
     "title": ""
    }
   },
   "outputs": [],
   "source": [
    "# Usa la función con para la siguiente pregunta\n",
    "\n",
    "def con(a, b):\n",
    "    return(a + b)"
   ]
  },
  {
   "cell_type": "markdown",
   "metadata": {
    "application/vnd.databricks.v1+cell": {
     "inputWidgets": {},
     "nuid": "7fb77ac6-5c71-41d7-9bdd-ab9753b1e676",
     "showTitle": false,
     "title": ""
    }
   },
   "source": [
    "¿Se puede usar la función <code> con </code> que definimos antes para agregar números enteros o cadenas?"
   ]
  },
  {
   "cell_type": "code",
   "execution_count": null,
   "metadata": {
    "application/vnd.databricks.v1+cell": {
     "inputWidgets": {},
     "nuid": "52c8054c-284f-45d5-9065-df7790b35b06",
     "showTitle": false,
     "title": ""
    }
   },
   "outputs": [
    {
     "name": "stdout",
     "output_type": "stream",
     "text": [
      "7\n",
      "Hola mundo\n",
      "Si se puede usar la funcion para agregar numeros e incluso cadenas\n"
     ]
    }
   ],
   "source": [
    "# Escribe abajo tu código y presiona Shift+Enter para ejecutarlo\n",
    "\n",
    "#Respuesta\n",
    "print(con(4,3))\n",
    "print(con(\"Hola \", \"mundo\")  )\n",
    "\n",
    "print(\"Si se puede usar la funcion para agregar números e incluso cadenas\")\n"
   ]
  },
  {
   "cell_type": "markdown",
   "metadata": {
    "application/vnd.databricks.v1+cell": {
     "inputWidgets": {},
     "nuid": "70c226e1-d4c2-46f7-99e8-7b60b428a659",
     "showTitle": false,
     "title": ""
    }
   },
   "source": [
    "Haz doble click __aquí__ para ver la solución.\n",
    "\n",
    "<!-- \n",
    "yes, for example: \n",
    "con(2, 2)\n",
    " -->"
   ]
  },
  {
   "cell_type": "markdown",
   "metadata": {
    "application/vnd.databricks.v1+cell": {
     "inputWidgets": {},
     "nuid": "44a25b2a-a8d7-4985-abcc-183fabbb53cd",
     "showTitle": false,
     "title": ""
    }
   },
   "source": [
    "¿Se puede usar la función <code> con </code> que definimos antes para concentrar una lista o tupla?"
   ]
  },
  {
   "cell_type": "code",
   "execution_count": 52,
   "metadata": {
    "application/vnd.databricks.v1+cell": {
     "inputWidgets": {},
     "nuid": "305e27e1-3198-4e15-a316-fae0c4883bd0",
     "showTitle": false,
     "title": ""
    }
   },
   "outputs": [
    {
     "name": "stdout",
     "output_type": "stream",
     "text": [
      "[1, 2, 3, 4, 5, 6]\n",
      "(1, 2, 3, 4, 5, 6)\n",
      "Con la misma función se puede usar concatenar listas o tuplas\n"
     ]
    }
   ],
   "source": [
    "# Escribe abajo tu código y presiona Shift+Enter para ejecutarlo\n",
    "\n",
    "#Respuesta\n",
    "lista1 = [1, 2, 3]\n",
    "lista2 = [4, 5, 6]\n",
    "\n",
    "print(con(lista1, lista2))\n",
    "\n",
    "tupla1 = (1, 2, 3)\n",
    "tupla2 = (4, 5, 6)\n",
    "\n",
    "print(con(tupla1, tupla2))\n",
    "\n",
    "print(\"Con la misma función se puede usar concatenar listas o tuplas\")"
   ]
  },
  {
   "cell_type": "markdown",
   "metadata": {
    "application/vnd.databricks.v1+cell": {
     "inputWidgets": {},
     "nuid": "1d2dab4a-5f66-455e-be10-678dd299ab1b",
     "showTitle": false,
     "title": ""
    }
   },
   "source": [
    "Haz doble click __aquí__ para ver la solución.\n",
    "\n",
    "<!-- \n",
    "yes,for example: \n",
    "con(['a', 1], ['b', 1])\n",
    "-->"
   ]
  }
 ],
 "metadata": {
  "application/vnd.databricks.v1+notebook": {
   "dashboards": [],
   "language": "python",
   "notebookMetadata": {
    "pythonIndentUnit": 2
   },
   "notebookName": "08-Python-Funciones",
   "notebookOrigID": 3296315911138926,
   "widgets": {}
  },
  "kernelspec": {
   "display_name": "base",
   "language": "python",
   "name": "python3"
  },
  "language_info": {
   "codemirror_mode": {
    "name": "ipython",
    "version": 3
   },
   "file_extension": ".py",
   "mimetype": "text/x-python",
   "name": "python",
   "nbconvert_exporter": "python",
   "pygments_lexer": "ipython3",
   "version": "3.11.7"
  }
 },
 "nbformat": 4,
 "nbformat_minor": 0
}
