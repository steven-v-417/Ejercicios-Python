{
  "cells": [
    {
      "cell_type": "markdown",
      "metadata": {
        "id": "dkfTfb7kKfO8"
      },
      "source": [
        "## CALENTAMIENTO:\n",
        "Resuelto por: Steven Robles ID:20516332"
      ]
    },
    {
      "cell_type": "markdown",
      "metadata": {
        "id": "jKNiFouRKfO8"
      },
      "source": [
        "#### MENOR DE DOS PARES: Escriba una función que devuelva el menor de dos números dados *si* ambos números son pares, pero devuelva el mayor si uno o ambos números son impares\n",
        "    lesser_of_two_evens(2,4) --> 2\n",
        "    lesser_of_two_evens(2,5) --> 5"
      ]
    },
    {
      "cell_type": "code",
      "execution_count": null,
      "metadata": {
        "id": "HF8_a_2IKfO8"
      },
      "outputs": [],
      "source": [
        "def lesser_of_two_evens(a,b):\n",
        "    pass\n",
        "#Respuesta\n",
        "    if a % 2 == 0 and b % 2 == 0:  \n",
        "        return min(a, b)  \n",
        "    else:  \n",
        "        return max(a, b)  \n",
        "\n",
        "        "
      ]
    },
    {
      "cell_type": "code",
      "execution_count": 4,
      "metadata": {
        "id": "fOv0K9mXKfO9",
        "outputId": "b22f779c-6706-4ede-95cc-c140ad565be1"
      },
      "outputs": [
        {
          "data": {
            "text/plain": [
              "2"
            ]
          },
          "execution_count": 4,
          "metadata": {},
          "output_type": "execute_result"
        }
      ],
      "source": [
        "# Revisión\n",
        "lesser_of_two_evens(2,4)"
      ]
    },
    {
      "cell_type": "code",
      "execution_count": 5,
      "metadata": {
        "id": "UMKYl4NgKfO-",
        "outputId": "9c980845-33dc-4af5-e00f-941bc34c9158"
      },
      "outputs": [
        {
          "data": {
            "text/plain": [
              "5"
            ]
          },
          "execution_count": 5,
          "metadata": {},
          "output_type": "execute_result"
        }
      ],
      "source": [
        "# Revisión\n",
        "lesser_of_two_evens(2,5)"
      ]
    },
    {
      "cell_type": "markdown",
      "metadata": {
        "id": "ZdEE37WBKfO-"
      },
      "source": [
        "#### GALLETAS DE ANIMALES: Escribir una función que toma una cadena de dos palabras y devuelve True si ambas palabras comienzan con la misma letra\n",
        "    animal_crackers('Ciudad Calor') --> True\n",
        "    animal_crackers('Lugar Frio') --> False"
      ]
    },
    {
      "cell_type": "code",
      "execution_count": null,
      "metadata": {
        "id": "6JEJK4lcKfO_"
      },
      "outputs": [],
      "source": [
        "def animal_crackers(text):\n",
        "  pass\n",
        "#Respuesta\n",
        "  palabras = text.split()  \n",
        "  return palabras[0][0].lower() == palabras[1][0].lower() \n"
      ]
    },
    {
      "cell_type": "code",
      "execution_count": 7,
      "metadata": {
        "id": "RZp5N4-6KfO_",
        "outputId": "6d328ca9-266d-48c7-f676-b754ef7ed006"
      },
      "outputs": [
        {
          "data": {
            "text/plain": [
              "True"
            ]
          },
          "execution_count": 7,
          "metadata": {},
          "output_type": "execute_result"
        }
      ],
      "source": [
        "# Revisión\n",
        "animal_crackers('Ciudad Calor')"
      ]
    },
    {
      "cell_type": "code",
      "execution_count": 12,
      "metadata": {
        "id": "zaGYt5L8KfO_",
        "outputId": "4b223142-b306-4b30-ac82-0231c9bba8ae"
      },
      "outputs": [
        {
          "data": {
            "text/plain": [
              "False"
            ]
          },
          "execution_count": 12,
          "metadata": {},
          "output_type": "execute_result"
        }
      ],
      "source": [
        "# Revisión\n",
        "animal_crackers('Lugar Frio')"
      ]
    },
    {
      "cell_type": "markdown",
      "metadata": {
        "id": "Xln0rzZ3KfPA"
      },
      "source": [
        "#### HACE VEINTE: dados dos enteros, devuelve True si la suma de los enteros es 20 o si uno de los enteros es 20. De lo contrario, devuelve False\n",
        "\n",
        "    makes_twenty(20,10) --> True\n",
        "    makes_twenty(12,8) --> True\n",
        "    makes_twenty(2,3) --> False"
      ]
    },
    {
      "cell_type": "code",
      "execution_count": 13,
      "metadata": {
        "id": "wBbR7Xx_KfPA"
      },
      "outputs": [],
      "source": [
        "def makes_twenty(n1, n2):\n",
        "    pass\n",
        "#Respuesta\n",
        "    return n1 == 20 or n2 == 20 or (n1 + n2) == 20"
      ]
    },
    {
      "cell_type": "code",
      "execution_count": 14,
      "metadata": {
        "id": "6jHiJxnwKfPA",
        "outputId": "9a14cffb-0f72-48c1-8619-7cfe26264915"
      },
      "outputs": [
        {
          "data": {
            "text/plain": [
              "True"
            ]
          },
          "execution_count": 14,
          "metadata": {},
          "output_type": "execute_result"
        }
      ],
      "source": [
        "# Revisión\n",
        "makes_twenty(20,10)"
      ]
    },
    {
      "cell_type": "code",
      "execution_count": 15,
      "metadata": {
        "id": "zZIdlGLeKfPA",
        "outputId": "9272422f-c012-4f4e-d8e6-a64deeaafffe"
      },
      "outputs": [
        {
          "data": {
            "text/plain": [
              "False"
            ]
          },
          "execution_count": 15,
          "metadata": {},
          "output_type": "execute_result"
        }
      ],
      "source": [
        "# Revisión\n",
        "makes_twenty(2,3)"
      ]
    },
    {
      "cell_type": "code",
      "execution_count": 16,
      "metadata": {
        "id": "BlJKTZX9KfPA",
        "outputId": "b973ebc9-e1c8-4a27-be98-968b062356c8"
      },
      "outputs": [
        {
          "data": {
            "text/plain": [
              "True"
            ]
          },
          "execution_count": 16,
          "metadata": {},
          "output_type": "execute_result"
        }
      ],
      "source": [
        "makes_twenty(12,8)"
      ]
    },
    {
      "cell_type": "markdown",
      "metadata": {
        "id": "d3Fka2vRKfPB"
      },
      "source": [
        "# Nivel 1"
      ]
    },
    {
      "cell_type": "markdown",
      "metadata": {
        "id": "H_e_DMbnKfPB"
      },
      "source": [
        "#### MAYÚSCULAS: Escribir una función que haga mayúscula la primera y cuarta letra de una cadena de texto\n",
        "     \n",
        "    old_macdonald('macdonald') --> MacDonald\n",
        "    \n",
        "Note: `'macdonald'.capitalize()` returns `'Macdonald'`"
      ]
    },
    {
      "cell_type": "code",
      "execution_count": 23,
      "metadata": {
        "id": "ZiXJrY8uKfPB"
      },
      "outputs": [],
      "source": [
        "def old_macdonald(name):\n",
        "    pass\n",
        "    if len(name) < 4: \n",
        "        return name.capitalize()\n",
        "#Respuesta\n",
        "    return name[0].upper() + name[1:3] + name[3].upper() + name[4:]"
      ]
    },
    {
      "cell_type": "code",
      "execution_count": 22,
      "metadata": {
        "id": "wtu_baYIKfPB",
        "outputId": "4e8b6e19-7e9e-4c6d-99df-63ec5d984748"
      },
      "outputs": [
        {
          "data": {
            "text/plain": [
              "'MacDonald'"
            ]
          },
          "execution_count": 22,
          "metadata": {},
          "output_type": "execute_result"
        }
      ],
      "source": [
        "# Check\n",
        "old_macdonald('macDonald')"
      ]
    },
    {
      "cell_type": "markdown",
      "metadata": {
        "id": "E24LlJo1KfPC"
      },
      "source": [
        "#### REVERSA: Dada una oración, retornar la misma oración pero en reversa\n",
        "\n",
        "    master_yoda('I am home') --> 'home am I'\n",
        "    master_yoda('We are ready') --> 'ready are We'\n",
        "    \n",
        "Note: Revisar método .join()\n",
        "\n",
        "    >>> \"--\".join(['a','b','c'])\n",
        "    >>> 'a--b--c'\n",
        "\n",
        "Resultado de .join():\n",
        "\n",
        "    >>> \" \".join(['Hello','world'])\n",
        "    >>> \"Hello world\""
      ]
    },
    {
      "cell_type": "code",
      "execution_count": 24,
      "metadata": {
        "id": "6K4nw15nKfPC"
      },
      "outputs": [],
      "source": [
        "def master_yoda(text):\n",
        "    pass\n",
        "#Respuesta\n",
        "    return \" \".join(text.split()[::-1])"
      ]
    },
    {
      "cell_type": "code",
      "execution_count": 26,
      "metadata": {
        "id": "2DqSErszKfPD",
        "outputId": "d49d92dd-11d7-4b81-c69d-c8695193eb19"
      },
      "outputs": [
        {
          "data": {
            "text/plain": [
              "'home am I'"
            ]
          },
          "execution_count": 26,
          "metadata": {},
          "output_type": "execute_result"
        }
      ],
      "source": [
        "# Revisión\n",
        "master_yoda('I am home')"
      ]
    },
    {
      "cell_type": "code",
      "execution_count": 28,
      "metadata": {
        "id": "efa9vdLSKfPD",
        "outputId": "4837b3d4-249c-4803-8b64-93b3ca51fc6d"
      },
      "outputs": [
        {
          "data": {
            "text/plain": [
              "'ready rate We'"
            ]
          },
          "execution_count": 28,
          "metadata": {},
          "output_type": "execute_result"
        }
      ],
      "source": [
        "# Revisión\n",
        "master_yoda('We rate ready')"
      ]
    },
    {
      "cell_type": "markdown",
      "metadata": {
        "id": "9jquqRm7KfPE"
      },
      "source": [
        "# Nivel 2"
      ]
    },
    {
      "cell_type": "markdown",
      "metadata": {
        "id": "S5V3SVDGKfPE"
      },
      "source": [
        "#### PROBLEMA 33: \n",
        "\n",
        "Dada una lista de enteros, retornar True si el arreglo tinene un  3  seguido por un  3 .\n",
        "\n",
        "    has_33([1, 3, 3]) → True\n",
        "    has_33([1, 3, 1, 3]) → False\n",
        "    has_33([3, 1, 3]) → False"
      ]
    },
    {
      "cell_type": "code",
      "execution_count": 29,
      "metadata": {
        "id": "9eU2-UZvKfPE"
      },
      "outputs": [],
      "source": [
        "def has_33(nums):\n",
        "    pass\n",
        "#Respuesta\n",
        "    for i in range(len(nums) - 1):  \n",
        "        if nums[i] == 3 and nums[i + 1] == 3: \n",
        "            return True\n",
        "    return False  "
      ]
    },
    {
      "cell_type": "code",
      "execution_count": 30,
      "metadata": {
        "id": "Yca9X7MAKfPE",
        "outputId": "42c708a5-04ed-43e3-e8ec-295f48027f0c"
      },
      "outputs": [
        {
          "data": {
            "text/plain": [
              "True"
            ]
          },
          "execution_count": 30,
          "metadata": {},
          "output_type": "execute_result"
        }
      ],
      "source": [
        "# Revisión\n",
        "has_33([1, 3, 3])"
      ]
    },
    {
      "cell_type": "code",
      "execution_count": 31,
      "metadata": {
        "id": "XSw1ml9dKfPE",
        "outputId": "57e4fb93-4218-493c-992b-db6ebba0c5c1"
      },
      "outputs": [
        {
          "data": {
            "text/plain": [
              "False"
            ]
          },
          "execution_count": 31,
          "metadata": {},
          "output_type": "execute_result"
        }
      ],
      "source": [
        "# Revisión\n",
        "has_33([1, 3, 1, 3])"
      ]
    },
    {
      "cell_type": "code",
      "execution_count": 32,
      "metadata": {
        "id": "ZKcJgxc5KfPF",
        "outputId": "34957a99-b52c-44cd-bc7c-b0e5158ccf23"
      },
      "outputs": [
        {
          "data": {
            "text/plain": [
              "False"
            ]
          },
          "execution_count": 32,
          "metadata": {},
          "output_type": "execute_result"
        }
      ],
      "source": [
        "# Revisión\n",
        "has_33([3, 1, 3])"
      ]
    },
    {
      "cell_type": "markdown",
      "metadata": {
        "id": "n-Vj63BpKfPF"
      },
      "source": [
        "#### REPLICADOR: Dada una cadena, devuelve una cadena donde por cada carácter en el original hay tres caracteres REPETIDOS\n",
        "    paper_doll('Hello') --> 'HHHeeellllllooo'\n",
        "    paper_doll('Mississippi') --> 'MMMiiissssssiiippppppiii'"
      ]
    },
    {
      "cell_type": "code",
      "execution_count": 33,
      "metadata": {
        "id": "F6ivbyiXKfPF"
      },
      "outputs": [],
      "source": [
        "def paper_doll(text):\n",
        "    pass\n",
        "#Respuesta\n",
        "    return \"\".join([char * 3 for char in text])"
      ]
    },
    {
      "cell_type": "code",
      "execution_count": 34,
      "metadata": {
        "id": "h330yUbKKfPF",
        "outputId": "169efcdf-a2d5-4eaa-d0f4-295f84a4f5e9"
      },
      "outputs": [
        {
          "data": {
            "text/plain": [
              "'HHHeeellllllooo'"
            ]
          },
          "execution_count": 34,
          "metadata": {},
          "output_type": "execute_result"
        }
      ],
      "source": [
        "# Check\n",
        "paper_doll('Hello')"
      ]
    },
    {
      "cell_type": "code",
      "execution_count": 35,
      "metadata": {
        "id": "sZTw8FlZKfPF",
        "outputId": "e7dc07c0-e048-4b25-ffcb-a5e4aeeebb42"
      },
      "outputs": [
        {
          "data": {
            "text/plain": [
              "'MMMiiissssssiiissssssiiippppppiii'"
            ]
          },
          "execution_count": 35,
          "metadata": {},
          "output_type": "execute_result"
        }
      ],
      "source": [
        "# Check\n",
        "paper_doll('Mississippi')"
      ]
    },
    {
      "cell_type": "markdown",
      "metadata": {
        "id": "OJfMlQRcKfPF"
      },
      "source": [
        "#### BLACKJACK: Dados tres enteros entre 1 y 11, si su suma es menor o igual a 21, devuelve su suma. Si su suma excede 21 *y* hay un once, reduce la suma total en 10. Finalmente, si la suma (incluso después del ajuste) excede 21, devuelve 'BUST'\n",
        "    blackjack(5,6,7) --> 18\n",
        "    blackjack(9,9,9) --> 'BUST'\n",
        "    blackjack(9,9,11) --> 19"
      ]
    },
    {
      "cell_type": "code",
      "execution_count": null,
      "metadata": {
        "id": "REJRcYJmKfPF"
      },
      "outputs": [],
      "source": [
        "def blackjack(a,b,c):\n",
        "    pass\n",
        "#Respuesta\n",
        "    total = a + b + c  \n",
        "    if total <= 21:\n",
        "        return total\n",
        "    elif 11 in (a, b, c) and total - 10 <= 21:  \n",
        "        return total - 10\n",
        "    else:\n",
        "        return \"BUST\"  "
      ]
    },
    {
      "cell_type": "code",
      "execution_count": 37,
      "metadata": {
        "id": "D_sHnddYKfPF",
        "outputId": "fc7e06b6-dedc-44db-967b-d2bcae8566da"
      },
      "outputs": [
        {
          "data": {
            "text/plain": [
              "18"
            ]
          },
          "execution_count": 37,
          "metadata": {},
          "output_type": "execute_result"
        }
      ],
      "source": [
        "# Revisión\n",
        "blackjack(5,6,7)"
      ]
    },
    {
      "cell_type": "code",
      "execution_count": 38,
      "metadata": {
        "id": "y0713b36KfPF",
        "outputId": "278287b5-0843-4056-da0b-ed5d8b382b7d"
      },
      "outputs": [
        {
          "data": {
            "text/plain": [
              "'BUST'"
            ]
          },
          "execution_count": 38,
          "metadata": {},
          "output_type": "execute_result"
        }
      ],
      "source": [
        "# Revisión\n",
        "blackjack(9,9,9)"
      ]
    },
    {
      "cell_type": "code",
      "execution_count": 43,
      "metadata": {
        "id": "6eijyrH-KfPG",
        "outputId": "68421178-7dc7-439f-e433-ce567b999dd6"
      },
      "outputs": [
        {
          "data": {
            "text/plain": [
              "'BUST'"
            ]
          },
          "execution_count": 43,
          "metadata": {},
          "output_type": "execute_result"
        }
      ],
      "source": [
        "# Revisión\n",
        "blackjack(11,11,11)"
      ]
    },
    {
      "cell_type": "markdown",
      "metadata": {
        "id": "6S22_l6xKfPI"
      },
      "source": [
        "## Suerte!"
      ]
    }
  ],
  "metadata": {
    "colab": {
      "name": "Practico_Bono_1(E).ipynb",
      "provenance": []
    },
    "kernelspec": {
      "display_name": "base",
      "language": "python",
      "name": "python3"
    },
    "language_info": {
      "codemirror_mode": {
        "name": "ipython",
        "version": 3
      },
      "file_extension": ".py",
      "mimetype": "text/x-python",
      "name": "python",
      "nbconvert_exporter": "python",
      "pygments_lexer": "ipython3",
      "version": "3.11.7"
    }
  },
  "nbformat": 4,
  "nbformat_minor": 0
}
