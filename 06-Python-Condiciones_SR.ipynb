{
 "cells": [
  {
   "cell_type": "markdown",
   "metadata": {
    "application/vnd.databricks.v1+cell": {
     "inputWidgets": {},
     "nuid": "29e4f563-e7a9-4579-b12a-d02dc1550b5e",
     "showTitle": false,
     "title": ""
    }
   },
   "source": [
    "<h1>Procesamiento de Datos a Gran Escala</h1>\n",
    "Resuelto por: Steven Robles   ID:20516332"
   ]
  },
  {
   "cell_type": "markdown",
   "metadata": {
    "application/vnd.databricks.v1+cell": {
     "inputWidgets": {},
     "nuid": "7e9494e2-9c96-4290-907d-2e1d7508b5ed",
     "showTitle": false,
     "title": ""
    }
   },
   "source": [
    "<h2>Condiciones en Python</h2>"
   ]
  },
  {
   "cell_type": "markdown",
   "metadata": {
    "application/vnd.databricks.v1+cell": {
     "inputWidgets": {},
     "nuid": "f8112314-2c33-4ace-950f-f0eb2a1f631c",
     "showTitle": false,
     "title": ""
    }
   },
   "source": [
    "<p><strong>¡Bienvenido!</strong> En este cuaderno aprenderás los relacionado con las condiciones en el Lenguaje de Programación Python. Al final del laboratorio sabrás como se utilizan las condiciones, incluyendo sus operadores y sentencias condicionales. </p>"
   ]
  },
  {
   "cell_type": "markdown",
   "metadata": {
    "application/vnd.databricks.v1+cell": {
     "inputWidgets": {},
     "nuid": "394e02ec-fbe7-43f1-a09a-aad7ad4f9a8c",
     "showTitle": false,
     "title": ""
    }
   },
   "source": [
    "<h2>Tabla de Contenido</h2>\n",
    "<div class=\"alert alert-block alert-info\" style=\"margin-top: 20px\">\n",
    "    <ul>\n",
    "        <li>\n",
    "            <a href=\"#cond\">Declaraciones de Condición</a>\n",
    "            <ul>\n",
    "                <li><a href=\"comp\">Operadores de Comparación</a></li>\n",
    "                <li><a href=\"branch\">Sentencias Condicionales (Branching)</a></li>\n",
    "                <li><a href=\"logic\">Operadores Lógicos</a></li>\n",
    "            </ul>\n",
    "        </li>\n",
    "        <li>\n",
    "            <a href=\"#quiz\">Cuestionario sobre Condiciones</a>\n",
    "        </li>\n",
    "    </ul>\n",
    "    <p>\n",
    "        Tiempo Estimado: <strong>20 min</strong>\n",
    "    </p>\n",
    "</div>\n",
    "\n",
    "<hr>"
   ]
  },
  {
   "cell_type": "markdown",
   "metadata": {
    "application/vnd.databricks.v1+cell": {
     "inputWidgets": {},
     "nuid": "849e5884-3651-4354-bbab-2f3e617bce3a",
     "showTitle": false,
     "title": ""
    }
   },
   "source": [
    "<h2 id=\"cond\">Declaraciones de Condición</h2>"
   ]
  },
  {
   "cell_type": "markdown",
   "metadata": {
    "application/vnd.databricks.v1+cell": {
     "inputWidgets": {},
     "nuid": "b98a7cad-0535-4e08-b44f-7dc29a18a58a",
     "showTitle": false,
     "title": ""
    }
   },
   "source": [
    "<h3 id=\"comp\">Operadores de Comparación</h3>"
   ]
  },
  {
   "cell_type": "markdown",
   "metadata": {
    "application/vnd.databricks.v1+cell": {
     "inputWidgets": {},
     "nuid": "d61d5cfc-e29c-4a1b-a7e9-3920043882d1",
     "showTitle": false,
     "title": ""
    }
   },
   "source": [
    "Los operadores de comparacion relacionan algun valor u operador y, en base a una condicion, se obtiene un valor verdadero o falso. Al comparar dos valores se pueden utilizar estos operadores:\n",
    "\n",
    "<ul>\n",
    "    <li>igual: <b>==</b></li>\n",
    "    <li>diferente: <b>!=</b></li>\n",
    "    <li>mayor que: <b>></b></li>\n",
    "    <li>menor que: <b>&lt;</b></li>\n",
    "    <li>mayor o igual a: <b>>=</b></li>\n",
    "    <li>menor o igual a: <b>&lt;=</b></li>\n",
    "</ul>"
   ]
  },
  {
   "cell_type": "markdown",
   "metadata": {
    "application/vnd.databricks.v1+cell": {
     "inputWidgets": {},
     "nuid": "947c1fb7-2e30-4f4c-9009-e45af82e8541",
     "showTitle": false,
     "title": ""
    }
   },
   "source": [
    "Asignemos a la variable <code>a</code> un valor de 5. Utiliza el operador de igualdad representado por el signo <b>==</b> para determinar si dos valores son iguales. El siguiente caso compara a la variable <code>a</code> con 6."
   ]
  },
  {
   "cell_type": "code",
   "execution_count": 1,
   "metadata": {
    "application/vnd.databricks.v1+cell": {
     "inputWidgets": {},
     "nuid": "7a42a6ab-c9f0-40da-8b19-e23ff404fa93",
     "showTitle": false,
     "title": ""
    }
   },
   "outputs": [
    {
     "data": {
      "text/plain": [
       "False"
      ]
     },
     "execution_count": 1,
     "metadata": {},
     "output_type": "execute_result"
    }
   ],
   "source": [
    "# Condicion Igual a\n",
    "\n",
    "a = 5\n",
    "a == 6"
   ]
  },
  {
   "cell_type": "markdown",
   "metadata": {
    "application/vnd.databricks.v1+cell": {
     "inputWidgets": {},
     "nuid": "a589f9cd-506d-4d59-aa16-8666ffd8e9a7",
     "showTitle": false,
     "title": ""
    }
   },
   "source": [
    "El resultado es <b>Falso</b> ya que 5 no es igual a 6."
   ]
  },
  {
   "cell_type": "markdown",
   "metadata": {
    "application/vnd.databricks.v1+cell": {
     "inputWidgets": {},
     "nuid": "f42b45fc-7001-402c-8715-16fcfea80b71",
     "showTitle": false,
     "title": ""
    }
   },
   "source": [
    "Considera el siguiente operador de comparación, <code>i > 5</code>. Si el valor del operando de la izquierda, en este caso la variable <b>i</b>, es mayor que el valor del operando de la derecha, en este caso 5, entonces la declaración es <b>Verdadera</b>. De otra manera seria <b>Falso</b>. Si <b>i</b> es igual a 6, debido a que 6 es mayor a 5, la salida será <b>Verdadera</b>."
   ]
  },
  {
   "cell_type": "code",
   "execution_count": 2,
   "metadata": {
    "application/vnd.databricks.v1+cell": {
     "inputWidgets": {},
     "nuid": "cebc5379-ced2-4b7c-9737-daf22188747c",
     "showTitle": false,
     "title": ""
    }
   },
   "outputs": [
    {
     "data": {
      "text/plain": [
       "True"
      ]
     },
     "execution_count": 2,
     "metadata": {},
     "output_type": "execute_result"
    }
   ],
   "source": [
    "# Signo Mayor a \n",
    "\n",
    "i = 6\n",
    "i > 5"
   ]
  },
  {
   "cell_type": "markdown",
   "metadata": {
    "application/vnd.databricks.v1+cell": {
     "inputWidgets": {},
     "nuid": "693ec1f1-e544-4e1a-936c-62e8b0dc02db",
     "showTitle": false,
     "title": ""
    }
   },
   "source": [
    "Asignar <code>i = 2</code>. La declaración es falsa porque 2 no es mayor que 5."
   ]
  },
  {
   "cell_type": "code",
   "execution_count": 3,
   "metadata": {
    "application/vnd.databricks.v1+cell": {
     "inputWidgets": {},
     "nuid": "b3efed94-b4d4-46d1-b3f2-d869cb136a64",
     "showTitle": false,
     "title": ""
    }
   },
   "outputs": [
    {
     "data": {
      "text/plain": [
       "False"
      ]
     },
     "execution_count": 3,
     "metadata": {},
     "output_type": "execute_result"
    }
   ],
   "source": [
    "# Signo Mayor a \n",
    "\n",
    "i = 2\n",
    "i > 5"
   ]
  },
  {
   "cell_type": "markdown",
   "metadata": {
    "application/vnd.databricks.v1+cell": {
     "inputWidgets": {},
     "nuid": "92ad25c1-501c-4b73-bbb2-96451aabbcd5",
     "showTitle": false,
     "title": ""
    }
   },
   "source": [
    "Mostraremos en la siguiente figura algunos valores para la variable <code>i</code>. Los valores mayores a 5 están en verde y el resto en rojo. La región verde representa a la condición cuando esta es **Verdadera**, la roja cuando es **Falsa**. Si el valor de <code>i</code> es 2, obtenemos **Falso** ya que 2 se encuentra en la región roja. De igual forma, si el valor de <code>i</code> es 6, tendremos **Verdadero** al estar el valor dentro del área verde."
   ]
  },
  {
   "cell_type": "markdown",
   "metadata": {
    "application/vnd.databricks.v1+cell": {
     "inputWidgets": {},
     "nuid": "ef382bd5-0b75-4898-96d5-522ac9bfd9b2",
     "showTitle": false,
     "title": ""
    }
   },
   "source": [
    "<img src=\"https://s3-api.us-geo.objectstorage.softlayer.net/cf-courses-data/CognitiveClass/PY0101EN/Chapter%203/Images/CondsGreater.gif\" width=\"650\" />"
   ]
  },
  {
   "cell_type": "markdown",
   "metadata": {
    "application/vnd.databricks.v1+cell": {
     "inputWidgets": {},
     "nuid": "09f65fb7-0f73-4e68-8805-f1ed4644ab04",
     "showTitle": false,
     "title": ""
    }
   },
   "source": [
    "La comprobación de desigualdad se representa con el signo de exclamación precediendo el signo de igualdad, si dos operandos no son iguales entonces la condición es **Verdadera**. Por ejemplo, la siguiente condición producirá un resultado **Verdadero** mientras el valor de <code>i</code> se distinto de 6."
   ]
  },
  {
   "cell_type": "code",
   "execution_count": 4,
   "metadata": {
    "application/vnd.databricks.v1+cell": {
     "inputWidgets": {},
     "nuid": "952b7330-9fb0-4700-9a54-b012d74203f1",
     "showTitle": false,
     "title": ""
    }
   },
   "outputs": [
    {
     "data": {
      "text/plain": [
       "True"
      ]
     },
     "execution_count": 4,
     "metadata": {},
     "output_type": "execute_result"
    }
   ],
   "source": [
    "# Signo de Desigualdad\n",
    "\n",
    "i = 2\n",
    "i != 6"
   ]
  },
  {
   "cell_type": "markdown",
   "metadata": {
    "application/vnd.databricks.v1+cell": {
     "inputWidgets": {},
     "nuid": "7f3938ac-af22-4266-97c1-828e4cef5619",
     "showTitle": false,
     "title": ""
    }
   },
   "source": [
    "Cuando <code>i</code> es igual a 6 la expresión de desigualdad arroja <b>Falso</b>."
   ]
  },
  {
   "cell_type": "code",
   "execution_count": 5,
   "metadata": {
    "application/vnd.databricks.v1+cell": {
     "inputWidgets": {},
     "nuid": "669c07fb-8057-4b09-a5cd-a6d8a5be7ec1",
     "showTitle": false,
     "title": ""
    }
   },
   "outputs": [
    {
     "data": {
      "text/plain": [
       "False"
      ]
     },
     "execution_count": 5,
     "metadata": {},
     "output_type": "execute_result"
    }
   ],
   "source": [
    "# Signo de Desigualdad\n",
    "\n",
    "i = 6\n",
    "i != 6"
   ]
  },
  {
   "cell_type": "markdown",
   "metadata": {
    "application/vnd.databricks.v1+cell": {
     "inputWidgets": {},
     "nuid": "30625e8c-6364-4727-b58a-9a780a6ef5ef",
     "showTitle": false,
     "title": ""
    }
   },
   "source": [
    "Observa los números de abajo. Cuando la condición es **Verdadera** los números correspondientes son marcados en verde y cuando es **Falsa** se marcan en rojo. Si le asignamos a la variable <code>i</code> el valor de 2 el operador es verdadero debido a que el 2 se encuentra en la región verde. Si le asignamos a la variable <code>i</code> el valor de 6 obtenemos **Falso** como resultado ya que la condición se encuentra en el rojo."
   ]
  },
  {
   "cell_type": "markdown",
   "metadata": {
    "application/vnd.databricks.v1+cell": {
     "inputWidgets": {},
     "nuid": "7ed5c907-ce81-4ded-bc2b-6f6e57ecb09e",
     "showTitle": false,
     "title": ""
    }
   },
   "source": [
    "<img src=\"https://s3-api.us-geo.objectstorage.softlayer.net/cf-courses-data/CognitiveClass/PY0101EN/Chapter%203/Images/CondsIneq.gif\" width=\"650\" />"
   ]
  },
  {
   "cell_type": "markdown",
   "metadata": {
    "application/vnd.databricks.v1+cell": {
     "inputWidgets": {},
     "nuid": "4d0d5c74-7286-4489-9897-d2a35125eb06",
     "showTitle": false,
     "title": ""
    }
   },
   "source": [
    "Podemos aplicar el mismo método a las cadenas. Por ejemplo, usando el operador de igualdad en dos de ellas. Si las cadenas no son iguales, el resultado es **Falso**."
   ]
  },
  {
   "cell_type": "code",
   "execution_count": 6,
   "metadata": {
    "application/vnd.databricks.v1+cell": {
     "inputWidgets": {},
     "nuid": "5d0288b3-6baa-4626-aa3d-d116fcf45385",
     "showTitle": false,
     "title": ""
    }
   },
   "outputs": [
    {
     "data": {
      "text/plain": [
       "False"
      ]
     },
     "execution_count": 6,
     "metadata": {},
     "output_type": "execute_result"
    }
   ],
   "source": [
    "# Usar el operador de Igualdad para comparar las cadenas\n",
    "\n",
    "\"ACDC\" == \"Michael Jackson\""
   ]
  },
  {
   "cell_type": "markdown",
   "metadata": {
    "application/vnd.databricks.v1+cell": {
     "inputWidgets": {},
     "nuid": "4c788e9f-cd35-4e1b-8262-465c774d5d64",
     "showTitle": false,
     "title": ""
    }
   },
   "source": [
    "Si usamos el operador de desigualdad, la salida será **Verdadera** al no ser las cadenas iguales."
   ]
  },
  {
   "cell_type": "code",
   "execution_count": 7,
   "metadata": {
    "application/vnd.databricks.v1+cell": {
     "inputWidgets": {},
     "nuid": "14efd942-16dd-41a5-84b3-0d510678622f",
     "showTitle": false,
     "title": ""
    }
   },
   "outputs": [
    {
     "data": {
      "text/plain": [
       "True"
      ]
     },
     "execution_count": 7,
     "metadata": {},
     "output_type": "execute_result"
    }
   ],
   "source": [
    "# Usar el operador de Desigualdad para comparar las cadenas\n",
    "\n",
    "\"ACDC\" != \"Michael Jackson\""
   ]
  },
  {
   "cell_type": "markdown",
   "metadata": {
    "application/vnd.databricks.v1+cell": {
     "inputWidgets": {},
     "nuid": "a5b1f1da-3633-4d1c-bebe-d67bacdb656d",
     "showTitle": false,
     "title": ""
    }
   },
   "source": [
    "El operador de desigualdad también se puede usar para comparar letras/palabras/símbolos de acuerdo con el valor ASCII de las letras. El valor decimal mostrado en la siguiente tabla representa el orden del carácter:"
   ]
  },
  {
   "cell_type": "markdown",
   "metadata": {
    "application/vnd.databricks.v1+cell": {
     "inputWidgets": {},
     "nuid": "89980c1a-a19b-49cf-b764-fb89450f81d3",
     "showTitle": false,
     "title": ""
    }
   },
   "source": [
    "Por ejemplo, el código ASCII de <b>!</b> es 21, mientras el código para <b>+</b> es 43. Por consiguiente <b>+</b> es mayor que <b>!</b> ya que 43 es mayor a 21."
   ]
  },
  {
   "cell_type": "markdown",
   "metadata": {
    "application/vnd.databricks.v1+cell": {
     "inputWidgets": {},
     "nuid": "6d56f39f-12cb-43d4-8d5a-f7f4d3bca373",
     "showTitle": false,
     "title": ""
    }
   },
   "source": [
    "De igual forma, el valor ASCII de <b>A</b> es 101, y el valor para <b>B</b> es 102, entonces:"
   ]
  },
  {
   "cell_type": "code",
   "execution_count": 8,
   "metadata": {
    "application/vnd.databricks.v1+cell": {
     "inputWidgets": {},
     "nuid": "6439efed-ec24-4855-9e21-d183a8ea3507",
     "showTitle": false,
     "title": ""
    }
   },
   "outputs": [
    {
     "data": {
      "text/plain": [
       "True"
      ]
     },
     "execution_count": 8,
     "metadata": {},
     "output_type": "execute_result"
    }
   ],
   "source": [
    "# Comparar los caracteres\n",
    "\n",
    "'B' > 'A'"
   ]
  },
  {
   "cell_type": "markdown",
   "metadata": {
    "application/vnd.databricks.v1+cell": {
     "inputWidgets": {},
     "nuid": "2044fc1a-e184-4d09-91a4-12f31321589d",
     "showTitle": false,
     "title": ""
    }
   },
   "source": [
    "Cuando hay múltiples letras, la primera es la que se toma en cuenta:"
   ]
  },
  {
   "cell_type": "code",
   "execution_count": 9,
   "metadata": {
    "application/vnd.databricks.v1+cell": {
     "inputWidgets": {},
     "nuid": "8ffca7de-b286-4486-b651-8eb906fdb689",
     "showTitle": false,
     "title": ""
    }
   },
   "outputs": [
    {
     "data": {
      "text/plain": [
       "True"
      ]
     },
     "execution_count": 9,
     "metadata": {},
     "output_type": "execute_result"
    }
   ],
   "source": [
    "# Comparar los caracteres\n",
    "\n",
    "'BA' > 'AB'"
   ]
  },
  {
   "cell_type": "markdown",
   "metadata": {
    "application/vnd.databricks.v1+cell": {
     "inputWidgets": {},
     "nuid": "d53c44de-5e97-41de-861e-0984689f0cbc",
     "showTitle": false,
     "title": ""
    }
   },
   "source": [
    "<b>Observación</b>: Las letras en mayúscula tienen un código ASCII distinto a las minúsculas, esto significa que al comparar letras, Python distinguirá entre mayúsculas y minúsculas."
   ]
  },
  {
   "cell_type": "markdown",
   "metadata": {
    "application/vnd.databricks.v1+cell": {
     "inputWidgets": {},
     "nuid": "6e94241d-8e3a-4336-a10b-e58200226236",
     "showTitle": false,
     "title": ""
    }
   },
   "source": [
    "<h3 id=\"branch\">Sentencias Condicionales (Branching)</h3>"
   ]
  },
  {
   "cell_type": "markdown",
   "metadata": {
    "application/vnd.databricks.v1+cell": {
     "inputWidgets": {},
     "nuid": "a3a436a0-b020-4873-92bd-56dd71eb0614",
     "showTitle": false,
     "title": ""
    }
   },
   "source": [
    "Las sentencias condicionales permiten ejecutar diferentes declaraciones para distintas entradas. Es útil pensar en una **condición if** como una habitación cerrada, si la condición es **Verdadera** podremos entrar y la aplicación podrá ejecutar algunas tareas predefinidas, pero si la condición es **Falsa** el programa ignorara dichas tareas."
   ]
  },
  {
   "cell_type": "markdown",
   "metadata": {
    "application/vnd.databricks.v1+cell": {
     "inputWidgets": {},
     "nuid": "467ab79b-273b-46c5-8e9e-e41207bd0564",
     "showTitle": false,
     "title": ""
    }
   },
   "source": [
    "Por ejemplo, consideremos que el rectángulo azul representa un concierto de ACDC. Si la persona es mayor de 18, puede entrar al concierto. Si tiene 18 o menos, no puede entrar.\n",
    "\n",
    "Utiliza la sentencia condicional vista anteriormente como aquella necesaria para usarse en una **condición if**. La sintaxis es tan sencilla como <code> if <i>sentencia condicional</i> :</code>, la cual contiene la palabra <code>if</code>, la condición y dos puntos al final. Empieza la tarea que tienes que ejecutar con esta condición en una nueva línea y sangría. Las líneas de código después de los dos puntos y con sangría solo serán ejecutadas cuando la **condición if** sea **Verdadera**. Las tareas finalizaran cuando el código no contenga sangría.\n",
    "\n",
    "En el siguiente caso, las tareas sole ejecutaran <code>print(“you can enter”)</code> si la variable <code>age</code> es mayor a 18 es Verdadera ya que esta parte del código contiene sangría. Sin embargo, la ejecución de <code>print(“move on”)</code> no será afectada por la condición if."
   ]
  },
  {
   "cell_type": "code",
   "execution_count": 12,
   "metadata": {
    "application/vnd.databricks.v1+cell": {
     "inputWidgets": {},
     "nuid": "c2f62c66-a6c4-4218-a40d-90936411c519",
     "showTitle": false,
     "title": ""
    }
   },
   "outputs": [
    {
     "name": "stdout",
     "output_type": "stream",
     "text": [
      "you can enter\n",
      "move on\n"
     ]
    }
   ],
   "source": [
    "# Ejemplo de condicion if\n",
    "\n",
    "age = 19\n",
    "#age = 18\n",
    "\n",
    "#La expresión que puede ser verdadera o falsa\n",
    "if age > 18:\n",
    "    \n",
    "    #parte con sangría, esta es la expresión que será ejecutada si la condición es verdadera\n",
    "    print(\"you can enter\" )\n",
    "\n",
    "#Las declaraciones después de la condición if serán ejecutadas independientemente de si la condición \n",
    "#es verdadera o falsa\n",
    "print(\"move on\")"
   ]
  },
  {
   "cell_type": "markdown",
   "metadata": {
    "application/vnd.databricks.v1+cell": {
     "inputWidgets": {},
     "nuid": "38434f32-9a82-45e1-97b0-2f20b9d83245",
     "showTitle": false,
     "title": ""
    }
   },
   "source": [
    "<i>Comprueba el código con la variable age comentada (age = 18)</i>"
   ]
  },
  {
   "cell_type": "markdown",
   "metadata": {
    "application/vnd.databricks.v1+cell": {
     "inputWidgets": {},
     "nuid": "7901940a-0034-4afb-b6a7-5a8460d0fbee",
     "showTitle": false,
     "title": ""
    }
   },
   "source": [
    "El siguiente diagrama será de ayuda para ilustrar el proceso. En el lado izquierdo, podemos observar lo que pasa cuando la condición es <b>Verdadera</b>. La persona que ingresa al concierto de ACDC representa la parte del código que tiene sangría siendo ejecutada; después prosigue. En el lado derecho vemos lo que sucede cuando la condición es <b>Falsa</b>; a la persona no se le permite el acceso, y esta continua. En este caso, el segmento de código en la parte con sangría no es ejecutada, pero el resto de las sentencias si."
   ]
  },
  {
   "cell_type": "markdown",
   "metadata": {
    "application/vnd.databricks.v1+cell": {
     "inputWidgets": {},
     "nuid": "ce7a1ca6-5a93-467e-84e5-c6ae8ef18b16",
     "showTitle": false,
     "title": ""
    }
   },
   "source": [
    "<img src=\"https://s3-api.us-geo.objectstorage.softlayer.net/cf-courses-data/CognitiveClass/PY0101EN/Chapter%203/Images/CondsIf.gif\" width=\"650\" />"
   ]
  },
  {
   "cell_type": "markdown",
   "metadata": {
    "application/vnd.databricks.v1+cell": {
     "inputWidgets": {},
     "nuid": "cd6669ff-51b8-4973-94dd-bb89016d37ac",
     "showTitle": false,
     "title": ""
    }
   },
   "source": [
    "La condición <code>else</code> ejecuta un bloque de código si ninguna de las condiciones antes de ella es **Verdadera**.  Usemos de nuevo la analogía del concierto de ACDC. Si la persona tiene 17 años no puede entrar al concierto de ACDC, pero si puede entrar al de MeatLoaf. La sintaxis de la condición <code>else</code> es similar a la de la condición <code>if</code>, de esta forma <code>else :</code>. Observa que no hay una declaración de condición para <code>else :</code>. Averigua que sucede cuando cambias los valores de <code>age</code>."
   ]
  },
  {
   "cell_type": "code",
   "execution_count": 13,
   "metadata": {
    "application/vnd.databricks.v1+cell": {
     "inputWidgets": {},
     "nuid": "66fe2acb-4dce-4344-bb5a-587951197614",
     "showTitle": false,
     "title": ""
    }
   },
   "outputs": [
    {
     "name": "stdout",
     "output_type": "stream",
     "text": [
      "go see Meat Loaf\n",
      "move on\n"
     ]
    }
   ],
   "source": [
    "# Ejemplo de condicion Else\n",
    "\n",
    "age = 18\n",
    "# age = 19\n",
    "\n",
    "if age > 18:\n",
    "    print(\"you can enter\" )\n",
    "else:\n",
    "    print(\"go see Meat Loaf\" )\n",
    "    \n",
    "print(\"move on\")"
   ]
  },
  {
   "cell_type": "markdown",
   "metadata": {
    "application/vnd.databricks.v1+cell": {
     "inputWidgets": {},
     "nuid": "d71405c7-12e2-455c-8496-e6b763cc0501",
     "showTitle": false,
     "title": ""
    }
   },
   "source": [
    "El proceso se demuestra a continuación, cada posibilidad es mostrada a cada lado de la imagen. En la izquierda esta el caso donde la edad es de 17, asignamos el valor de 17 a la variable age, esta corresponde a la de la persona yendo al concierto de MeatLoaf. La parte derecha muestra lo que sucede cuando la persona es mayor de 18, 19 en este caso, y le es permitido entrar al concierto."
   ]
  },
  {
   "cell_type": "markdown",
   "metadata": {
    "application/vnd.databricks.v1+cell": {
     "inputWidgets": {},
     "nuid": "52c294e9-dcff-43fb-affd-9f8dd2f4f8b2",
     "showTitle": false,
     "title": ""
    }
   },
   "source": [
    "<img src=\"https://s3-api.us-geo.objectstorage.softlayer.net/cf-courses-data/CognitiveClass/PY0101EN/Chapter%203/Images/CondsElse.gif\" width=\"650\" />"
   ]
  },
  {
   "cell_type": "markdown",
   "metadata": {
    "application/vnd.databricks.v1+cell": {
     "inputWidgets": {},
     "nuid": "c530d1b5-33ce-49a5-8d92-adf1123aa6b4",
     "showTitle": false,
     "title": ""
    }
   },
   "source": [
    "La declaración <code>elif</code>, una abreviación de else if, nos permite comprobar condiciones adicionales si otras antes de ella son <b>Falsas</b>. Si la condición de la declaración <code>elif</code> es <b>Verdadera</b>, la expresión alternativa será ejecutada. Considera el ejemplo del concierto, donde si la persona tiene 18 ira al concierto de Pink Floyd en lugar de ACDC o MeatLoaf. La persona de 18 entra, debido a que no es mayor a 18 no puede ver a ACDC, pero puede ver a Pink Floyd. Después de ver el concierto, prosigue. La sintaxis de la declaración <code>elif</code> es similar a la de <code>if</code> ya que apenas cambiamos la declaración <code>if</code> por <code>elif</code>."
   ]
  },
  {
   "cell_type": "code",
   "execution_count": 14,
   "metadata": {
    "application/vnd.databricks.v1+cell": {
     "inputWidgets": {},
     "nuid": "f5605f24-3b9b-4336-b985-cbb611b8cc2e",
     "showTitle": false,
     "title": ""
    }
   },
   "outputs": [
    {
     "name": "stdout",
     "output_type": "stream",
     "text": [
      "go see Pink Floyd\n",
      "move on\n"
     ]
    }
   ],
   "source": [
    "# Ejemplo de declaración elif\n",
    "\n",
    "age = 18\n",
    "\n",
    "if age > 18:\n",
    "    print(\"you can enter\" )\n",
    "elif age == 18:\n",
    "    print(\"go see Pink Floyd\")\n",
    "else:\n",
    "    print(\"go see Meat Loaf\" )\n",
    "    \n",
    "print(\"move on\")"
   ]
  },
  {
   "cell_type": "markdown",
   "metadata": {
    "application/vnd.databricks.v1+cell": {
     "inputWidgets": {},
     "nuid": "032ae0c0-05fc-44a6-880c-150d9d2a2cbe",
     "showTitle": false,
     "title": ""
    }
   },
   "source": [
    "Las tres combinaciones se muestran en la figura de abajo. La parte de la izquierda muestra lo que sucede cuando la persona es mejor de 18 años. En el componente del centro la edad es de 18. El ultimo y a la derecha ejemplifica a la persona cuando es mayor de 18."
   ]
  },
  {
   "cell_type": "markdown",
   "metadata": {
    "application/vnd.databricks.v1+cell": {
     "inputWidgets": {},
     "nuid": "ef0d0852-32a1-4d44-8b4b-36a3d8266096",
     "showTitle": false,
     "title": ""
    }
   },
   "source": [
    "<img src =\"https://s3-api.us-geo.objectstorage.softlayer.net/cf-courses-data/CognitiveClass/PY0101EN/Chapter%203/Images/CondsElif.gif\" width=\"650\" />"
   ]
  },
  {
   "cell_type": "markdown",
   "metadata": {
    "application/vnd.databricks.v1+cell": {
     "inputWidgets": {},
     "nuid": "261f3233-d0da-4dfb-b621-d2f4dcbb300a",
     "showTitle": false,
     "title": ""
    }
   },
   "source": [
    "Mira el siguiente código"
   ]
  },
  {
   "cell_type": "code",
   "execution_count": 15,
   "metadata": {
    "application/vnd.databricks.v1+cell": {
     "inputWidgets": {},
     "nuid": "9ce021d5-5729-4afc-98db-81759ab86c31",
     "showTitle": false,
     "title": ""
    }
   },
   "outputs": [
    {
     "name": "stdout",
     "output_type": "stream",
     "text": [
      "do something..\n"
     ]
    }
   ],
   "source": [
    "# Condición de ejemplo\n",
    "\n",
    "album_year = 1983\n",
    "album_year = 1970\n",
    "\n",
    "if album_year > 1980:\n",
    "    print(\"Album year is greater than 1980\")\n",
    "    \n",
    "print('do something..')"
   ]
  },
  {
   "cell_type": "markdown",
   "metadata": {
    "application/vnd.databricks.v1+cell": {
     "inputWidgets": {},
     "nuid": "6f2a48cc-fade-4ed2-9152-4ed7d2f2d346",
     "showTitle": false,
     "title": ""
    }
   },
   "source": [
    "Sientete con la libertad de cambiar el valor de <code>album_year</code> por algún otro – ¡Veras como cambian los resultados!"
   ]
  },
  {
   "cell_type": "markdown",
   "metadata": {
    "application/vnd.databricks.v1+cell": {
     "inputWidgets": {},
     "nuid": "d4b0c6c4-cb54-41d7-b4a9-3305cb046f76",
     "showTitle": false,
     "title": ""
    }
   },
   "source": [
    "Observa que el bloque de código con <b>sangria</b> aquí arriba solo será ejecutado si el resultado es <b>Verdadero</b>."
   ]
  },
  {
   "cell_type": "markdown",
   "metadata": {
    "application/vnd.databricks.v1+cell": {
     "inputWidgets": {},
     "nuid": "9c2e76d4-70ec-41e3-abfa-f88fcdd8114c",
     "showTitle": false,
     "title": ""
    }
   },
   "source": [
    "Al igual que antes, podemos agregar un bloque <code>else</code> al bloque <code>if</code>. El código dentro del <code>else</code> solo será ejecutado si el resultado es <b>Falso</b>.\n",
    "\n",
    "<b>Sintaxis:</b>\n",
    "\n",
    "if (condition):\n",
    "    # haz algo\n",
    "else:\n",
    "    # haz otra cosa"
   ]
  },
  {
   "cell_type": "markdown",
   "metadata": {
    "application/vnd.databricks.v1+cell": {
     "inputWidgets": {},
     "nuid": "669eb12c-a552-47d1-a96d-4fb48cb78bb5",
     "showTitle": false,
     "title": ""
    }
   },
   "source": [
    "Si la condición en el <code>if</code> es <b>Falsa</b>, la declaración después del <code>else</code> serán ejecutadas. Esto es demostrado en la siguiente figura:"
   ]
  },
  {
   "cell_type": "markdown",
   "metadata": {
    "application/vnd.databricks.v1+cell": {
     "inputWidgets": {},
     "nuid": "9be4f711-21fa-4b6d-b7a1-173d36d25046",
     "showTitle": false,
     "title": ""
    }
   },
   "source": [
    "<img src=\"https://s3-api.us-geo.objectstorage.softlayer.net/cf-courses-data/CognitiveClass/PY0101EN/Chapter%203/Images/CondsLogicMap.png\" width=\"650\" />"
   ]
  },
  {
   "cell_type": "code",
   "execution_count": 16,
   "metadata": {
    "application/vnd.databricks.v1+cell": {
     "inputWidgets": {},
     "nuid": "5a3f0719-eed3-4823-8727-9be13864b118",
     "showTitle": false,
     "title": ""
    }
   },
   "outputs": [
    {
     "name": "stdout",
     "output_type": "stream",
     "text": [
      "Album year is greater than 1980\n",
      "do something..\n"
     ]
    }
   ],
   "source": [
    "# Condición de ejemplo\n",
    "\n",
    "album_year = 1983\n",
    "#album_year = 1970\n",
    "\n",
    "if album_year > 1980:\n",
    "    print(\"Album year is greater than 1980\")\n",
    "else:\n",
    "    print(\"less than 1980\")\n",
    "\n",
    "print('do something..')"
   ]
  },
  {
   "cell_type": "markdown",
   "metadata": {
    "application/vnd.databricks.v1+cell": {
     "inputWidgets": {},
     "nuid": "fbfe9660-cef1-4218-a3bb-4278e9207c28",
     "showTitle": false,
     "title": ""
    }
   },
   "source": [
    "Sientete con la libertad de cambiar el valor de <code>album_year</code> por algún otro – ¡Veras como cambian los resultados!"
   ]
  },
  {
   "cell_type": "markdown",
   "metadata": {
    "application/vnd.databricks.v1+cell": {
     "inputWidgets": {},
     "nuid": "26c623d9-fc6f-41e8-aa8c-d4c7168b63f2",
     "showTitle": false,
     "title": ""
    }
   },
   "source": [
    "<h3 id=\"logic\">Operadores Lógicos</h3>"
   ]
  },
  {
   "cell_type": "markdown",
   "metadata": {
    "application/vnd.databricks.v1+cell": {
     "inputWidgets": {},
     "nuid": "d90b303e-9ccf-44d7-8eea-db6d5b8babb2",
     "showTitle": false,
     "title": ""
    }
   },
   "source": [
    "A veces es necesario revisar mas de una condición al mismo tiempo. Por ejemplo, pudieras querer ver si una condición y otra son **Verdaderas**. Los operadores lógicos permiten combinar o modificar condiciones.\n",
    "<ul>\n",
    "    <li><code>and</code></li>\n",
    "    <li><code>or</code></li>\n",
    "    <li><code>not</code></li>\n",
    "</ul>\n",
    "\n",
    "Estos el funcionamiento de estos operadores se muestra en la siguiente tabla de verdad:"
   ]
  },
  {
   "cell_type": "markdown",
   "metadata": {
    "application/vnd.databricks.v1+cell": {
     "inputWidgets": {},
     "nuid": "79404c7a-3ac0-4269-ba72-88cea35b3f28",
     "showTitle": false,
     "title": ""
    }
   },
   "source": [
    "<img src=\"https://s3-api.us-geo.objectstorage.softlayer.net/cf-courses-data/CognitiveClass/PY0101EN/Chapter%203/Images/CondsTable.png\" width=\"650\" />"
   ]
  },
  {
   "cell_type": "markdown",
   "metadata": {
    "application/vnd.databricks.v1+cell": {
     "inputWidgets": {},
     "nuid": "71baf89e-a163-418a-86e6-3a412274b2a9",
     "showTitle": false,
     "title": ""
    }
   },
   "source": [
    "La declaración <code>and</code> solo es **Verdadera** cuando ambas condiciones lo son. En el caso de <code>or</code> será verdadero si alguna de las condiciones es **Verdadera**. La declaración <code>not</code> tendrá como resultado el valor de verdad opuesto a la salida."
   ]
  },
  {
   "cell_type": "markdown",
   "metadata": {
    "application/vnd.databricks.v1+cell": {
     "inputWidgets": {},
     "nuid": "9a969644-ac31-4e21-8d49-06e5ee87dd0a",
     "showTitle": false,
     "title": ""
    }
   },
   "source": [
    "Veamos ahora como determinar si un disco musical fue lanzado después de 1979 (sin incluir ese año) y antes de 1990 (sin incluir ese año). El periodo 1980 y 1989 satisface esta condición. Se demostrará esto en la siguiente figura. La parte verde de las líneas <strong>a</strong> y <strong>b</strong> representa periodos donde la declaración es **Verdadera**. La parte verde en la línea <strong>c</strong> representa el periodo donde la línea a y b son **Verdaderas** al mismo tiempo."
   ]
  },
  {
   "cell_type": "markdown",
   "metadata": {
    "application/vnd.databricks.v1+cell": {
     "inputWidgets": {},
     "nuid": "66829c73-5cca-4507-8030-5a171ea9b5d2",
     "showTitle": false,
     "title": ""
    }
   },
   "source": [
    "<img src=\"https://s3-api.us-geo.objectstorage.softlayer.net/cf-courses-data/CognitiveClass/PY0101EN/Chapter%203/Images/CondsEgOne.png\" width=\"650\" />"
   ]
  },
  {
   "cell_type": "markdown",
   "metadata": {
    "application/vnd.databricks.v1+cell": {
     "inputWidgets": {},
     "nuid": "1a6a741a-86f9-4bd9-9f90-48e2288e3d58",
     "showTitle": false,
     "title": ""
    }
   },
   "source": [
    "El bloque de código que implementa esto es:"
   ]
  },
  {
   "cell_type": "code",
   "execution_count": 17,
   "metadata": {
    "application/vnd.databricks.v1+cell": {
     "inputWidgets": {},
     "nuid": "15598fc7-1cb4-48f0-b56d-f6078d5bb94b",
     "showTitle": false,
     "title": ""
    }
   },
   "outputs": [
    {
     "name": "stdout",
     "output_type": "stream",
     "text": [
      "Album year was in between 1980 and 1989\n",
      "\n",
      "Do Stuff..\n"
     ]
    }
   ],
   "source": [
    "# Condición de ejemplo\n",
    "\n",
    "album_year = 1980\n",
    "\n",
    "if(album_year > 1979) and (album_year < 1990):\n",
    "    print (\"Album year was in between 1980 and 1989\")\n",
    "    \n",
    "print(\"\")\n",
    "print(\"Do Stuff..\")"
   ]
  },
  {
   "cell_type": "markdown",
   "metadata": {
    "application/vnd.databricks.v1+cell": {
     "inputWidgets": {},
     "nuid": "ad21c635-456c-4254-a326-de457320ffce",
     "showTitle": false,
     "title": ""
    }
   },
   "source": [
    "Para determinar si un disco fue lanzado antes de 1980 (.. - 1979) o después de 1989 (1990 - .. ) se puede utilizar una declaración **or**. Los periodos anteriores a 1980 (.. - 1979) o posterior a 1989 (1990 - ..) satisfacen esta condición. Esto se muestra en la figura siguiente, el color verde en la línea <strong>a</strong> y <strong>b</strong> representa periodos donde la declaración tiene un valor verdadero. El color verde en **c** indica que la condición es verdadera en al menos una de las condiciones."
   ]
  },
  {
   "cell_type": "markdown",
   "metadata": {
    "application/vnd.databricks.v1+cell": {
     "inputWidgets": {},
     "nuid": "450f8c50-f745-4c02-b997-d9d1795d223a",
     "showTitle": false,
     "title": ""
    }
   },
   "source": [
    "<img src=\"https://s3-api.us-geo.objectstorage.softlayer.net/cf-courses-data/CognitiveClass/PY0101EN/Chapter%203/Images/CondsEgTwo.png\" width=\"650\" />"
   ]
  },
  {
   "cell_type": "markdown",
   "metadata": {
    "application/vnd.databricks.v1+cell": {
     "inputWidgets": {},
     "nuid": "cab259c0-9d72-4384-b785-32b94d31772b",
     "showTitle": false,
     "title": ""
    }
   },
   "source": [
    "El bloque de código que implementa esto es:"
   ]
  },
  {
   "cell_type": "code",
   "execution_count": 18,
   "metadata": {
    "application/vnd.databricks.v1+cell": {
     "inputWidgets": {},
     "nuid": "4c72051b-6769-41e1-b27e-cce92ed5558b",
     "showTitle": false,
     "title": ""
    }
   },
   "outputs": [
    {
     "name": "stdout",
     "output_type": "stream",
     "text": [
      "Album was not made in the 1980's\n"
     ]
    }
   ],
   "source": [
    "# Condición de ejemplo\n",
    "\n",
    "album_year = 1990\n",
    "\n",
    "if(album_year < 1980) or (album_year > 1989):\n",
    "    print (\"Album was not made in the 1980's\")\n",
    "else:\n",
    "    print(\"The Album was made in the 1980's \")"
   ]
  },
  {
   "cell_type": "markdown",
   "metadata": {
    "application/vnd.databricks.v1+cell": {
     "inputWidgets": {},
     "nuid": "abc69df5-2dfe-46d0-b25a-8cbcc06341c7",
     "showTitle": false,
     "title": ""
    }
   },
   "source": [
    "La declaración <code>not</code> revisa si la condición es falsa:"
   ]
  },
  {
   "cell_type": "code",
   "execution_count": 19,
   "metadata": {
    "application/vnd.databricks.v1+cell": {
     "inputWidgets": {},
     "nuid": "1cd47bc0-d75b-4352-b65a-42cbcab3af4a",
     "showTitle": false,
     "title": ""
    }
   },
   "outputs": [
    {
     "name": "stdout",
     "output_type": "stream",
     "text": [
      "Album year is not 1984\n"
     ]
    }
   ],
   "source": [
    "# Condición de ejemplo\n",
    "\n",
    "album_year = 1983\n",
    "\n",
    "if not (album_year == '1984'):\n",
    "    print (\"Album year is not 1984\")"
   ]
  },
  {
   "cell_type": "markdown",
   "metadata": {
    "application/vnd.databricks.v1+cell": {
     "inputWidgets": {},
     "nuid": "1703ed23-e01a-4052-b611-41812138d525",
     "showTitle": false,
     "title": ""
    }
   },
   "source": [
    "<h2 id=\"quiz\">Cuestionario sobre Condiciones</h2>"
   ]
  },
  {
   "cell_type": "markdown",
   "metadata": {
    "application/vnd.databricks.v1+cell": {
     "inputWidgets": {},
     "nuid": "be8175ec-7ec8-400f-9337-c389181aef0d",
     "showTitle": false,
     "title": ""
    }
   },
   "source": [
    "Escribe una declaración if que determine si un disco musical tiene una calificación mayor a 8. Compruébalo utilizando el calificación del disco <b>“Back in Black”</b> el cual tiene un valor de 8.5. Si la condición es verdadera, imprime “\"This album is Amazing!\"”"
   ]
  },
  {
   "cell_type": "code",
   "execution_count": 20,
   "metadata": {
    "application/vnd.databricks.v1+cell": {
     "inputWidgets": {},
     "nuid": "ba426d09-449c-4875-8ba8-652e7176c5b0",
     "showTitle": false,
     "title": ""
    },
    "scrolled": true
   },
   "outputs": [
    {
     "name": "stdout",
     "output_type": "stream",
     "text": [
      "This album is Amazing!\n"
     ]
    }
   ],
   "source": [
    "# Escribe abajo tu código y presiona Shift+Enter para ejecutarlo\n",
    "\n",
    "#Respuesta\n",
    "black_in_black = 8.5\n",
    "if black_in_black> 8:\n",
    "    print (\"This album is Amazing!\")"
   ]
  },
  {
   "cell_type": "markdown",
   "metadata": {
    "application/vnd.databricks.v1+cell": {
     "inputWidgets": {},
     "nuid": "7195e2bc-64b7-4467-b71d-026fc3132558",
     "showTitle": false,
     "title": ""
    }
   },
   "source": [
    "Haz doble click __aquí__ para ver la solución.\n",
    "\n",
    "<!-- \n",
    "rating = 8.5\n",
    "if rating > 8:\n",
    "    print (\"This album is Amazing!\")\n",
    " -->"
   ]
  },
  {
   "cell_type": "markdown",
   "metadata": {
    "application/vnd.databricks.v1+cell": {
     "inputWidgets": {},
     "nuid": "b6c1a3c7-309f-4c8c-b730-1bca9702934c",
     "showTitle": false,
     "title": ""
    }
   },
   "source": [
    "Escribe una declaración if-else que determine lo siguiente. Si la calificación es mayor que 8 imprime “this album is amazing”. Si es menor o igual a 8 que imprima “this album is ok”."
   ]
  },
  {
   "cell_type": "code",
   "execution_count": 29,
   "metadata": {
    "application/vnd.databricks.v1+cell": {
     "inputWidgets": {},
     "nuid": "1888187a-7d9e-44b7-8bb9-91343fea0c02",
     "showTitle": false,
     "title": ""
    }
   },
   "outputs": [
    {
     "name": "stdout",
     "output_type": "stream",
     "text": [
      "This album is Amazing!\n"
     ]
    }
   ],
   "source": [
    "# Escribe abajo tu código y presiona Shift+Enter para ejecutarlo\n",
    "\n",
    "#Respuesta\n",
    "black_in_black = 8.1\n",
    "if black_in_black> 8:\n",
    "    print (\"This album is Amazing!\")\n",
    "else:\n",
    "  print (\"This album is ok\")"
   ]
  },
  {
   "cell_type": "markdown",
   "metadata": {
    "application/vnd.databricks.v1+cell": {
     "inputWidgets": {},
     "nuid": "140e9169-8df7-45f6-9739-9bec1421301b",
     "showTitle": false,
     "title": ""
    }
   },
   "source": [
    "Haz doble click __aquí__ para ver la solución.\n",
    "\n",
    "<!-- \n",
    "rating = 8.5\n",
    "if rating > 8:\n",
    "    print (\"this album is amazing\")\n",
    "else:\n",
    "    print (\"this album is ok\")\n",
    "-->"
   ]
  },
  {
   "cell_type": "markdown",
   "metadata": {
    "application/vnd.databricks.v1+cell": {
     "inputWidgets": {},
     "nuid": "ada543c5-9767-4c00-a008-bcada350d6e9",
     "showTitle": false,
     "title": ""
    }
   },
   "source": [
    "Escribe una declaración if que determine si un disco fue lanzado antes de 1980 o en los años 1991 o 1993. Si la condición es verdadera imprime el año de lanzamiento."
   ]
  },
  {
   "cell_type": "code",
   "execution_count": 33,
   "metadata": {
    "application/vnd.databricks.v1+cell": {
     "inputWidgets": {},
     "nuid": "8855a243-d6fb-403c-bb3b-3a5787a1fe08",
     "showTitle": false,
     "title": ""
    }
   },
   "outputs": [
    {
     "name": "stdout",
     "output_type": "stream",
     "text": [
      "El año de lanzamiento: 1979\n"
     ]
    }
   ],
   "source": [
    "# Escribe abajo tu código y presiona Shift+Enter para ejecutarlo\n",
    "\n",
    "#Respuesta\n",
    "album_year = 1979\n",
    "\n",
    "if album_year < 1980 or album_year == 1991 or album_year == 1993:\n",
    "    print (\"El año de lanzamiento:\",album_year)"
   ]
  },
  {
   "cell_type": "markdown",
   "metadata": {
    "application/vnd.databricks.v1+cell": {
     "inputWidgets": {},
     "nuid": "50c2ffdb-afa0-4fee-a022-25c2a43f1ff0",
     "showTitle": false,
     "title": ""
    }
   },
   "source": [
    "Haz doble click __aquí__ para ver la solución.\n",
    "\n",
    "<!-- \n",
    "album_year = 1979\n",
    "\n",
    "if album_year < 1980 or album_year == 1991 or album_year == 1993:\n",
    "    print (\"this album came out already\")\n",
    "-->"
   ]
  }
 ],
 "metadata": {
  "application/vnd.databricks.v1+notebook": {
   "dashboards": [],
   "language": "python",
   "notebookMetadata": {
    "pythonIndentUnit": 2
   },
   "notebookName": "06-Python-Condiciones",
   "notebookOrigID": 3296315911138599,
   "widgets": {}
  },
  "kernelspec": {
   "display_name": "base",
   "language": "python",
   "name": "python3"
  },
  "language_info": {
   "codemirror_mode": {
    "name": "ipython",
    "version": 3
   },
   "file_extension": ".py",
   "mimetype": "text/x-python",
   "name": "python",
   "nbconvert_exporter": "python",
   "pygments_lexer": "ipython3",
   "version": "3.11.7"
  }
 },
 "nbformat": 4,
 "nbformat_minor": 0
}
