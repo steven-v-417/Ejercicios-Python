{
 "cells": [
  {
   "cell_type": "markdown",
   "metadata": {
    "application/vnd.databricks.v1+cell": {
     "inputWidgets": {},
     "nuid": "6d434104-86b8-4c41-a59b-623f89a107cd",
     "showTitle": false,
     "title": ""
    }
   },
   "source": [
    "<h1>Procesamiento de Datos a Gran Escala</h1>\n",
    "Resuelto por: Steven Robles ID:20516332"
   ]
  },
  {
   "cell_type": "markdown",
   "metadata": {
    "application/vnd.databricks.v1+cell": {
     "inputWidgets": {},
     "nuid": "ca8a69a5-0b3b-47b8-a7f9-159a320590ba",
     "showTitle": false,
     "title": ""
    }
   },
   "source": [
    "<h2>Diccionarios en Python</h2>"
   ]
  },
  {
   "cell_type": "markdown",
   "metadata": {
    "application/vnd.databricks.v1+cell": {
     "inputWidgets": {},
     "nuid": "f81050b8-e3d4-4c41-a99e-e25ea6f2a3e1",
     "showTitle": false,
     "title": ""
    }
   },
   "source": [
    "<p><strong>¡Bienvenido!</strong> En este cuaderno aprenderás lo relacionado con los diccionarios en el Lenguaje de Programación Python. Al final de este laboratorio, conocerás las operaciones básicas con diccionarios en Python, incluyendo qué son, y las operaciones que puedes hacer con ellos.</p>"
   ]
  },
  {
   "cell_type": "markdown",
   "metadata": {
    "application/vnd.databricks.v1+cell": {
     "inputWidgets": {},
     "nuid": "6fc64cb9-c451-43b4-af92-75438ee71b18",
     "showTitle": false,
     "title": ""
    }
   },
   "source": [
    "<h2>Tabla de Contenido</h2>\n",
    "<div class=\"alert alert-block alert-info\" style=\"margin-top: 20px\">\n",
    "    <ul>\n",
    "        <li>\n",
    "            <a href=\"#dic\">Diccionarios</a>\n",
    "            <ul>\n",
    "                <li><a href=\"content\">¿Qué son los diccionarios?</a></li>\n",
    "                <li><a href=\"key\">Llaves</a></li>\n",
    "            </ul>\n",
    "        </li>\n",
    "        <li>\n",
    "            <a href=\"#quiz\">Cuestionario sobre Diccionarios</a>\n",
    "        </li>\n",
    "    </ul>\n",
    "    <p>\n",
    "        Tiempo Estimado: <strong>20 min</strong>\n",
    "    </p>\n",
    "</div>\n",
    "\n",
    "<hr>"
   ]
  },
  {
   "cell_type": "markdown",
   "metadata": {
    "application/vnd.databricks.v1+cell": {
     "inputWidgets": {},
     "nuid": "50a2ca48-45d6-4bab-9e95-c003257ef47e",
     "showTitle": false,
     "title": ""
    }
   },
   "source": [
    "<h2 id=\"Dic\">Diccionarios</h2>"
   ]
  },
  {
   "cell_type": "markdown",
   "metadata": {
    "application/vnd.databricks.v1+cell": {
     "inputWidgets": {},
     "nuid": "748cb5ce-ab69-4151-83f9-48b0d6615d03",
     "showTitle": false,
     "title": ""
    }
   },
   "source": [
    "<h3 id=\"content\">¿Qué son los diccionarios?</h3>"
   ]
  },
  {
   "cell_type": "markdown",
   "metadata": {
    "application/vnd.databricks.v1+cell": {
     "inputWidgets": {},
     "nuid": "c4e0370e-305b-426c-b96a-539867bba040",
     "showTitle": false,
     "title": ""
    }
   },
   "source": [
    "Un diccionario esta conformado por llaves y valores. Un diccionario puede compararse a una lista. En vez de índices numéricos como los de las listas, los diccionarios tienen llaves. Estas llaves son usadas para acceder a los valores dentro de los diccionarios."
   ]
  },
  {
   "cell_type": "markdown",
   "metadata": {
    "application/vnd.databricks.v1+cell": {
     "inputWidgets": {},
     "nuid": "de873c95-c9d1-4685-832e-db96cf0af97b",
     "showTitle": false,
     "title": ""
    }
   },
   "source": [
    "<img src=\"https://s3-api.us-geo.objectstorage.softlayer.net/cf-courses-data/CognitiveClass/PY0101EN/Chapter%202/Images/DictsList.png\" width=\"650\" />"
   ]
  },
  {
   "cell_type": "markdown",
   "metadata": {
    "application/vnd.databricks.v1+cell": {
     "inputWidgets": {},
     "nuid": "a8add588-fdff-436a-bbdb-bf4c04f4d9a3",
     "showTitle": false,
     "title": ""
    }
   },
   "source": [
    "Un ejemplo de Diccionario <code>Dict</code>:"
   ]
  },
  {
   "cell_type": "code",
   "execution_count": 1,
   "metadata": {
    "application/vnd.databricks.v1+cell": {
     "inputWidgets": {},
     "nuid": "d83789c3-6192-4fae-bf05-85f095d86624",
     "showTitle": false,
     "title": ""
    }
   },
   "outputs": [
    {
     "data": {
      "text/plain": [
       "{'key1': 1,\n",
       " 'key2': '2',\n",
       " 'key3': [3, 3, 3],\n",
       " 'key4': (4, 4, 4),\n",
       " 'key5': 5,\n",
       " (0, 1): 6}"
      ]
     },
     "execution_count": 1,
     "metadata": {},
     "output_type": "execute_result"
    }
   ],
   "source": [
    "# Crear el diccionario\n",
    "\n",
    "Dict = {\"key1\": 1, \"key2\": \"2\", \"key3\": [3, 3, 3], \"key4\": (4, 4, 4), ('key5'): 5, (0, 1): 6}\n",
    "Dict"
   ]
  },
  {
   "cell_type": "markdown",
   "metadata": {
    "application/vnd.databricks.v1+cell": {
     "inputWidgets": {},
     "nuid": "1187475d-05b4-43b2-9014-f31f857a3847",
     "showTitle": false,
     "title": ""
    }
   },
   "source": [
    "Las llaves pueden ser cadenas:"
   ]
  },
  {
   "cell_type": "code",
   "execution_count": 2,
   "metadata": {
    "application/vnd.databricks.v1+cell": {
     "inputWidgets": {},
     "nuid": "0252aeb9-ad5a-42fd-88dc-b9b8e4246056",
     "showTitle": false,
     "title": ""
    }
   },
   "outputs": [
    {
     "data": {
      "text/plain": [
       "1"
      ]
     },
     "execution_count": 2,
     "metadata": {},
     "output_type": "execute_result"
    }
   ],
   "source": [
    "# Acceder a un valor mediante una llave\n",
    "\n",
    "Dict[\"key1\"]"
   ]
  },
  {
   "cell_type": "markdown",
   "metadata": {
    "application/vnd.databricks.v1+cell": {
     "inputWidgets": {},
     "nuid": "6ad8c687-aef5-41c1-b1f9-7fd843b75511",
     "showTitle": false,
     "title": ""
    }
   },
   "source": [
    "Una llave puede ser cualquier tipo de objeto inmutable, pudiendo ser una tupla:"
   ]
  },
  {
   "cell_type": "code",
   "execution_count": 3,
   "metadata": {
    "application/vnd.databricks.v1+cell": {
     "inputWidgets": {},
     "nuid": "85f10128-d534-4eff-842b-3e66089b2e31",
     "showTitle": false,
     "title": ""
    }
   },
   "outputs": [
    {
     "data": {
      "text/plain": [
       "6"
      ]
     },
     "execution_count": 3,
     "metadata": {},
     "output_type": "execute_result"
    }
   ],
   "source": [
    "# Acceder a un valor mediante una llave\n",
    "\n",
    "Dict[(0, 1)]"
   ]
  },
  {
   "cell_type": "markdown",
   "metadata": {
    "application/vnd.databricks.v1+cell": {
     "inputWidgets": {},
     "nuid": "2b5738af-d031-444c-b9d2-58134d4e3432",
     "showTitle": false,
     "title": ""
    }
   },
   "source": [
    "Cada llave esta separada de su respectivo valor mediante dos puntos \"<code>:</code>\". Las comas separan los elementos y todo el diccionario esta encerrado usando llaves. Un diccionario vacío se representa escribiendo solo dos llaves, de esta forma \"<code>{}</code>\"."
   ]
  },
  {
   "cell_type": "code",
   "execution_count": 4,
   "metadata": {
    "application/vnd.databricks.v1+cell": {
     "inputWidgets": {},
     "nuid": "85d281fa-253f-43ad-8eb3-d92278596a2a",
     "showTitle": false,
     "title": ""
    }
   },
   "outputs": [
    {
     "data": {
      "text/plain": [
       "{'Thriller': '1982',\n",
       " 'Back in Black': '1980',\n",
       " 'The Dark Side of the Moon': '1973',\n",
       " 'The Bodyguard': '1992',\n",
       " 'Bat Out of Hell': '1977',\n",
       " 'Their Greatest Hits (1971-1975)': '1976',\n",
       " 'Saturday Night Fever': '1977',\n",
       " 'Rumours': '1977'}"
      ]
     },
     "execution_count": 4,
     "metadata": {},
     "output_type": "execute_result"
    }
   ],
   "source": [
    "# Crear un ejemplo de diccionario\n",
    "\n",
    "release_year_dict = {\"Thriller\": \"1982\", \"Back in Black\": \"1980\", \\\n",
    "                    \"The Dark Side of the Moon\": \"1973\", \"The Bodyguard\": \"1992\", \\\n",
    "                    \"Bat Out of Hell\": \"1977\", \"Their Greatest Hits (1971-1975)\": \"1976\", \\\n",
    "                    \"Saturday Night Fever\": \"1977\", \"Rumours\": \"1977\"}\n",
    "release_year_dict"
   ]
  },
  {
   "cell_type": "markdown",
   "metadata": {
    "application/vnd.databricks.v1+cell": {
     "inputWidgets": {},
     "nuid": "243896a2-fc31-40b6-a287-76bcf21116e2",
     "showTitle": false,
     "title": ""
    }
   },
   "source": [
    "Resumiendo, al igual que una lista, un diccionario guarda una secuencia de elementos. Cada uno es representado por una llave y su valor correspondiente. Los diccionarios se crean mediante dos llaves y estas contendrán las llaves y valores separados por una coma. A cada llave solo puede corresponderle un valor, sin embargo, múltiples llaves pueden tener el mismo. Las llaves solo pueden ser cadenas, números o tuplas, pero los valores pueden ser de cualquier tipo."
   ]
  },
  {
   "cell_type": "markdown",
   "metadata": {
    "application/vnd.databricks.v1+cell": {
     "inputWidgets": {},
     "nuid": "5d7fb19d-2ec4-484c-a114-019c150ca777",
     "showTitle": false,
     "title": ""
    }
   },
   "source": [
    "Es de ayuda visualizar un diccionario como una tabla, como se muestra en la imagen. La primera columna representa las llaves, la segunda los valores."
   ]
  },
  {
   "cell_type": "markdown",
   "metadata": {
    "application/vnd.databricks.v1+cell": {
     "inputWidgets": {},
     "nuid": "89d4d643-72f4-43d8-93da-9173702b23a5",
     "showTitle": false,
     "title": ""
    }
   },
   "source": [
    "<img src=\"https://s3-api.us-geo.objectstorage.softlayer.net/cf-courses-data/CognitiveClass/PY0101EN/Chapter%202/Images/DictsStructure.png\" width=\"650\" />"
   ]
  },
  {
   "cell_type": "markdown",
   "metadata": {
    "application/vnd.databricks.v1+cell": {
     "inputWidgets": {},
     "nuid": "fe8f9f9c-7ab6-40d0-8f8d-105547850463",
     "showTitle": false,
     "title": ""
    }
   },
   "source": [
    "<h3 id=\"key\">Llaves</h3>"
   ]
  },
  {
   "cell_type": "markdown",
   "metadata": {
    "application/vnd.databricks.v1+cell": {
     "inputWidgets": {},
     "nuid": "e766a7da-57fb-4795-a6d3-b42ec52b2de3",
     "showTitle": false,
     "title": ""
    }
   },
   "source": [
    "Los valores se pueden obtener mediante nombres:"
   ]
  },
  {
   "cell_type": "code",
   "execution_count": 5,
   "metadata": {
    "application/vnd.databricks.v1+cell": {
     "inputWidgets": {},
     "nuid": "6f527e58-7393-4f44-8ef5-fedbe8a26037",
     "showTitle": false,
     "title": ""
    }
   },
   "outputs": [
    {
     "data": {
      "text/plain": [
       "'1982'"
      ]
     },
     "execution_count": 5,
     "metadata": {},
     "output_type": "execute_result"
    }
   ],
   "source": [
    "# Obtener el valor de las llaves\n",
    "\n",
    "release_year_dict['Thriller'] "
   ]
  },
  {
   "cell_type": "markdown",
   "metadata": {
    "application/vnd.databricks.v1+cell": {
     "inputWidgets": {},
     "nuid": "2a09bdc1-2cd8-419e-88ae-6f47137f429e",
     "showTitle": false,
     "title": ""
    }
   },
   "source": [
    "Esto corresponde a:"
   ]
  },
  {
   "cell_type": "markdown",
   "metadata": {
    "application/vnd.databricks.v1+cell": {
     "inputWidgets": {},
     "nuid": "9797f201-29ec-417a-8187-4e1410e60681",
     "showTitle": false,
     "title": ""
    }
   },
   "source": [
    "<img src=\"https://s3-api.us-geo.objectstorage.softlayer.net/cf-courses-data/CognitiveClass/PY0101EN/Chapter%202/Images/DictsKeyOne.png\" width=\"500\" />"
   ]
  },
  {
   "cell_type": "markdown",
   "metadata": {
    "application/vnd.databricks.v1+cell": {
     "inputWidgets": {},
     "nuid": "7e886131-6584-45f9-a070-e74c1377c6a1",
     "showTitle": false,
     "title": ""
    }
   },
   "source": [
    "De igual forma <b>The Bodyguard</b>"
   ]
  },
  {
   "cell_type": "code",
   "execution_count": 6,
   "metadata": {
    "application/vnd.databricks.v1+cell": {
     "inputWidgets": {},
     "nuid": "693125b7-2d1d-4b17-8968-ea4909c0aa76",
     "showTitle": false,
     "title": ""
    }
   },
   "outputs": [
    {
     "data": {
      "text/plain": [
       "'1992'"
      ]
     },
     "execution_count": 6,
     "metadata": {},
     "output_type": "execute_result"
    }
   ],
   "source": [
    "# Obtener el valor mediante la llave\n",
    "\n",
    "release_year_dict['The Bodyguard'] "
   ]
  },
  {
   "cell_type": "markdown",
   "metadata": {
    "application/vnd.databricks.v1+cell": {
     "inputWidgets": {},
     "nuid": "5bf88a04-75d6-40b5-b5ac-a91f08be6402",
     "showTitle": false,
     "title": ""
    }
   },
   "source": [
    "<img src=\"https://s3-api.us-geo.objectstorage.softlayer.net/cf-courses-data/CognitiveClass/PY0101EN/Chapter%202/Images/DictsKeyTwo.png\" width=\"500\" />"
   ]
  },
  {
   "cell_type": "markdown",
   "metadata": {
    "application/vnd.databricks.v1+cell": {
     "inputWidgets": {},
     "nuid": "cc434575-f8fa-4d3c-80b8-a3e6587562e9",
     "showTitle": false,
     "title": ""
    }
   },
   "source": [
    "Ahora vamos a recuperar las llaves del diccionario mediante el método <code>release_year_dict()</code>:"
   ]
  },
  {
   "cell_type": "code",
   "execution_count": 7,
   "metadata": {
    "application/vnd.databricks.v1+cell": {
     "inputWidgets": {},
     "nuid": "5cd4d636-6097-4864-abd2-ddc347d4f4b3",
     "showTitle": false,
     "title": ""
    }
   },
   "outputs": [
    {
     "data": {
      "text/plain": [
       "dict_keys(['Thriller', 'Back in Black', 'The Dark Side of the Moon', 'The Bodyguard', 'Bat Out of Hell', 'Their Greatest Hits (1971-1975)', 'Saturday Night Fever', 'Rumours'])"
      ]
     },
     "execution_count": 7,
     "metadata": {},
     "output_type": "execute_result"
    }
   ],
   "source": [
    "# Obtener todas las llaves del diccionario\n",
    "\n",
    "release_year_dict.keys() "
   ]
  },
  {
   "cell_type": "markdown",
   "metadata": {
    "application/vnd.databricks.v1+cell": {
     "inputWidgets": {},
     "nuid": "a8d38355-3b24-4ca8-bfd2-8396dc992f46",
     "showTitle": false,
     "title": ""
    }
   },
   "source": [
    "Se puede obtener los valores mediante el método <code>values()</code>:"
   ]
  },
  {
   "cell_type": "code",
   "execution_count": 8,
   "metadata": {
    "application/vnd.databricks.v1+cell": {
     "inputWidgets": {},
     "nuid": "d9da60da-943c-4927-91be-bade067249de",
     "showTitle": false,
     "title": ""
    }
   },
   "outputs": [
    {
     "data": {
      "text/plain": [
       "dict_values(['1982', '1980', '1973', '1992', '1977', '1976', '1977', '1977'])"
      ]
     },
     "execution_count": 8,
     "metadata": {},
     "output_type": "execute_result"
    }
   ],
   "source": [
    "# Obtener todos los valores del diccionario\n",
    "\n",
    "release_year_dict.values() "
   ]
  },
  {
   "cell_type": "markdown",
   "metadata": {
    "application/vnd.databricks.v1+cell": {
     "inputWidgets": {},
     "nuid": "56ac7ab8-52ce-497b-8079-49cb717a2938",
     "showTitle": false,
     "title": ""
    }
   },
   "source": [
    "Podemos agregar una entrada:"
   ]
  },
  {
   "cell_type": "code",
   "execution_count": 9,
   "metadata": {
    "application/vnd.databricks.v1+cell": {
     "inputWidgets": {},
     "nuid": "34df8115-0a96-45b0-bc2e-cfaa5d936ffd",
     "showTitle": false,
     "title": ""
    }
   },
   "outputs": [
    {
     "data": {
      "text/plain": [
       "{'Thriller': '1982',\n",
       " 'Back in Black': '1980',\n",
       " 'The Dark Side of the Moon': '1973',\n",
       " 'The Bodyguard': '1992',\n",
       " 'Bat Out of Hell': '1977',\n",
       " 'Their Greatest Hits (1971-1975)': '1976',\n",
       " 'Saturday Night Fever': '1977',\n",
       " 'Rumours': '1977',\n",
       " 'Graduation': '2007'}"
      ]
     },
     "execution_count": 9,
     "metadata": {},
     "output_type": "execute_result"
    }
   ],
   "source": [
    "# Agregar un valor con su llave en el diccionario\n",
    "\n",
    "release_year_dict['Graduation'] = '2007'\n",
    "release_year_dict"
   ]
  },
  {
   "cell_type": "markdown",
   "metadata": {
    "application/vnd.databricks.v1+cell": {
     "inputWidgets": {},
     "nuid": "e3402c34-f8af-4a7f-a6e1-edf226849f1d",
     "showTitle": false,
     "title": ""
    }
   },
   "source": [
    "Tambien podemos borrar entradas:"
   ]
  },
  {
   "cell_type": "code",
   "execution_count": 10,
   "metadata": {
    "application/vnd.databricks.v1+cell": {
     "inputWidgets": {},
     "nuid": "6ba464e7-caff-4c9a-bc2d-b8312d7f9570",
     "showTitle": false,
     "title": ""
    }
   },
   "outputs": [
    {
     "data": {
      "text/plain": [
       "{'Back in Black': '1980',\n",
       " 'The Dark Side of the Moon': '1973',\n",
       " 'The Bodyguard': '1992',\n",
       " 'Bat Out of Hell': '1977',\n",
       " 'Their Greatest Hits (1971-1975)': '1976',\n",
       " 'Saturday Night Fever': '1977',\n",
       " 'Rumours': '1977'}"
      ]
     },
     "execution_count": 10,
     "metadata": {},
     "output_type": "execute_result"
    }
   ],
   "source": [
    "# Borrar entradas mediante la llave\n",
    "\n",
    "del(release_year_dict['Thriller'])\n",
    "del(release_year_dict['Graduation'])\n",
    "release_year_dict"
   ]
  },
  {
   "cell_type": "markdown",
   "metadata": {
    "application/vnd.databricks.v1+cell": {
     "inputWidgets": {},
     "nuid": "1306a96d-a6e4-48da-b125-499de7e3c68e",
     "showTitle": false,
     "title": ""
    }
   },
   "source": [
    "Podemos verificar si existe un elemento en el diccionario:"
   ]
  },
  {
   "cell_type": "code",
   "execution_count": 11,
   "metadata": {
    "application/vnd.databricks.v1+cell": {
     "inputWidgets": {},
     "nuid": "4bdb460d-ffdb-4954-9b9f-8539414bc505",
     "showTitle": false,
     "title": ""
    }
   },
   "outputs": [
    {
     "data": {
      "text/plain": [
       "True"
      ]
     },
     "execution_count": 11,
     "metadata": {},
     "output_type": "execute_result"
    }
   ],
   "source": [
    "# Verificar si existe la llave en el diccionario\n",
    "\n",
    "'The Bodyguard' in release_year_dict"
   ]
  },
  {
   "cell_type": "markdown",
   "metadata": {
    "application/vnd.databricks.v1+cell": {
     "inputWidgets": {},
     "nuid": "0098716f-2f97-477a-af21-5cefd29b1f56",
     "showTitle": false,
     "title": ""
    }
   },
   "source": [
    "<h2 id=\"quiz\">Cuestionario sobre Diccionarios</h2>"
   ]
  },
  {
   "cell_type": "markdown",
   "metadata": {
    "application/vnd.databricks.v1+cell": {
     "inputWidgets": {},
     "nuid": "2f0c5b32-ce02-4963-ba6d-c43ce95feb45",
     "showTitle": false,
     "title": ""
    }
   },
   "source": [
    "<b>Necesitarás este diccionario para las siguientes dos preguntas:</b>"
   ]
  },
  {
   "cell_type": "code",
   "execution_count": 12,
   "metadata": {
    "application/vnd.databricks.v1+cell": {
     "inputWidgets": {},
     "nuid": "7f3c4221-f50e-4854-a57c-671747557f93",
     "showTitle": false,
     "title": ""
    }
   },
   "outputs": [
    {
     "data": {
      "text/plain": [
       "{'The Bodyguard': '1992', 'Saturday Night Fever': '1977'}"
      ]
     },
     "execution_count": 12,
     "metadata": {},
     "output_type": "execute_result"
    }
   ],
   "source": [
    "# Pregunta - Diccionario de ejemplo\n",
    "\n",
    "soundtrack_dic = {\"The Bodyguard\":\"1992\", \"Saturday Night Fever\":\"1977\"}\n",
    "soundtrack_dic "
   ]
  },
  {
   "cell_type": "markdown",
   "metadata": {
    "application/vnd.databricks.v1+cell": {
     "inputWidgets": {},
     "nuid": "221d2aad-a7e8-4b95-988d-86669961318f",
     "showTitle": false,
     "title": ""
    }
   },
   "source": [
    "a) En el diccionario <code>soundtrack_dict</code>. ¿Cuáles son las llaves?"
   ]
  },
  {
   "cell_type": "code",
   "execution_count": 13,
   "metadata": {
    "application/vnd.databricks.v1+cell": {
     "inputWidgets": {},
     "nuid": "bee1d6f8-5933-4079-81c6-ac56fa5e02f7",
     "showTitle": false,
     "title": ""
    }
   },
   "outputs": [
    {
     "data": {
      "text/plain": [
       "dict_keys(['The Bodyguard', 'Saturday Night Fever'])"
      ]
     },
     "execution_count": 13,
     "metadata": {},
     "output_type": "execute_result"
    }
   ],
   "source": [
    "# Escribe abajo tu código y presiona Shift+Enter para ejecutarlo\n",
    "\n",
    "#Respuesta\n",
    "soundtrack_dic.keys()"
   ]
  },
  {
   "cell_type": "markdown",
   "metadata": {
    "application/vnd.databricks.v1+cell": {
     "inputWidgets": {},
     "nuid": "33f42d63-b0cc-48cc-9e17-e34c54102b40",
     "showTitle": false,
     "title": ""
    }
   },
   "source": [
    "Haz doble click __aquí__ para ver la solución.\n",
    "\n",
    "<!-- Your answer is below:\n",
    "soundtrack_dic.keys() # The Keys \"The Bodyguard\" and \"Saturday Night Fever\" \n",
    "-->"
   ]
  },
  {
   "cell_type": "markdown",
   "metadata": {
    "application/vnd.databricks.v1+cell": {
     "inputWidgets": {},
     "nuid": "e277c4fd-98c0-4582-b8bc-5788994309a9",
     "showTitle": false,
     "title": ""
    }
   },
   "source": [
    "b) En el diccionario <code>soundtrack_dict</code>. ¿Cuáles son los valores?"
   ]
  },
  {
   "cell_type": "code",
   "execution_count": 0,
   "metadata": {
    "application/vnd.databricks.v1+cell": {
     "inputWidgets": {},
     "nuid": "3ddfe078-6bbe-4c03-b823-2752fa3ad5c6",
     "showTitle": false,
     "title": ""
    }
   },
   "outputs": [
    {
     "data": {
      "text/html": [
       "<style scoped>\n",
       "  .ansiout {\n",
       "    display: block;\n",
       "    unicode-bidi: embed;\n",
       "    white-space: pre-wrap;\n",
       "    word-wrap: break-word;\n",
       "    word-break: break-all;\n",
       "    font-family: \"Source Code Pro\", \"Menlo\", monospace;;\n",
       "    font-size: 13px;\n",
       "    color: #555;\n",
       "    margin-left: 4px;\n",
       "    line-height: 19px;\n",
       "  }\n",
       "</style>"
      ]
     },
     "metadata": {
      "application/vnd.databricks.v1+output": {
       "arguments": {},
       "data": "",
       "errorSummary": "",
       "errorTraceType": null,
       "metadata": {},
       "type": "ipynbError"
      }
     },
     "output_type": "display_data"
    }
   ],
   "source": [
    "# Escribe abajo tu código y presiona Shift+Enter para ejecutarlo\n",
    "\n",
    "#Respuesta\n",
    "soundtrack_dic.values()"
   ]
  },
  {
   "cell_type": "markdown",
   "metadata": {
    "application/vnd.databricks.v1+cell": {
     "inputWidgets": {},
     "nuid": "04091e72-252e-45af-8c17-a2d07af58ab7",
     "showTitle": false,
     "title": ""
    }
   },
   "source": [
    "Haz doble click __aquí__ para ver la solución.\n",
    "\n",
    "<!-- Your answer is below:\n",
    "soundtrack_dic.values() # The values are \"1992\" and \"1977\"\n",
    "-->"
   ]
  },
  {
   "cell_type": "markdown",
   "metadata": {
    "application/vnd.databricks.v1+cell": {
     "inputWidgets": {},
     "nuid": "d0517809-da4a-4990-8fc0-7c1b166b6527",
     "showTitle": false,
     "title": ""
    }
   },
   "source": [
    "<b>Necesitarás este diccionario para las siguientes preguntas:</b>"
   ]
  },
  {
   "cell_type": "markdown",
   "metadata": {
    "application/vnd.databricks.v1+cell": {
     "inputWidgets": {},
     "nuid": "1cd9afbb-9c22-46e8-a6e4-241e77dfeff9",
     "showTitle": false,
     "title": ""
    }
   },
   "source": [
    "Los discos <b>Back in Black</b>, <b>The Bodyguard</b> y <b>Thriller</b> poseen el siguiente record de ventas en millones, 50, 50 y 65 respectivamente:"
   ]
  },
  {
   "cell_type": "markdown",
   "metadata": {
    "application/vnd.databricks.v1+cell": {
     "inputWidgets": {},
     "nuid": "b87e1dec-be77-4ae4-adb2-fcdfa4b952c3",
     "showTitle": false,
     "title": ""
    }
   },
   "source": [
    "a) Crea un diccionario <code>album_sales_dict</code> donde las llaves sean el nombre del disco y los valores la cantidad de ventas en millones."
   ]
  },
  {
   "cell_type": "code",
   "execution_count": 14,
   "metadata": {
    "application/vnd.databricks.v1+cell": {
     "inputWidgets": {},
     "nuid": "4e53f4f3-b253-4267-b7d7-a5935789ddfe",
     "showTitle": false,
     "title": ""
    },
    "collapsed": true
   },
   "outputs": [],
   "source": [
    "# Escribe abajo tu código y presiona Shift+Enter para ejecutarlo\n",
    "\n",
    "#Respuesta\n",
    "album_sales_dict = {\"The Bodyguard\":50, \"Back in Black\":50, \"Thriller\":65}"
   ]
  },
  {
   "cell_type": "markdown",
   "metadata": {
    "application/vnd.databricks.v1+cell": {
     "inputWidgets": {},
     "nuid": "7040d8fa-6038-4404-be3f-3670a77f34c3",
     "showTitle": false,
     "title": ""
    }
   },
   "source": [
    "Haz doble click __aquí__ para ver la solución.\n",
    "\n",
    "<!-- Your answer is below:\n",
    "album_sales_dict = {\"The Bodyguard\":50, \"Back in Black\":50, \"Thriller\":65}\n",
    "-->"
   ]
  },
  {
   "cell_type": "markdown",
   "metadata": {
    "application/vnd.databricks.v1+cell": {
     "inputWidgets": {},
     "nuid": "a92ec325-9a51-4e7e-b91d-731d5bf8599d",
     "showTitle": false,
     "title": ""
    }
   },
   "source": [
    "b) Usa el diccionario para encontrar las ventas totales de <b>Thriller</b>:"
   ]
  },
  {
   "cell_type": "code",
   "execution_count": 15,
   "metadata": {
    "application/vnd.databricks.v1+cell": {
     "inputWidgets": {},
     "nuid": "5ee6e52a-feff-44ae-9c56-16b9580e08c8",
     "showTitle": false,
     "title": ""
    }
   },
   "outputs": [
    {
     "data": {
      "text/plain": [
       "65"
      ]
     },
     "execution_count": 15,
     "metadata": {},
     "output_type": "execute_result"
    }
   ],
   "source": [
    "# Escribe abajo tu código y presiona Shift+Enter para ejecutarlo\n",
    "\n",
    "#Respuesta\n",
    "album_sales_dict[\"Thriller\"]"
   ]
  },
  {
   "cell_type": "markdown",
   "metadata": {
    "application/vnd.databricks.v1+cell": {
     "inputWidgets": {},
     "nuid": "fe6ea2eb-8052-4164-98f3-0747adbbf250",
     "showTitle": false,
     "title": ""
    }
   },
   "source": [
    "Double-click __here__ for the solution.\n",
    "\n",
    "<!-- Your answer is below:\n",
    "album_sales_dict[\"Thriller\"]\n",
    "-->"
   ]
  },
  {
   "cell_type": "markdown",
   "metadata": {
    "application/vnd.databricks.v1+cell": {
     "inputWidgets": {},
     "nuid": "b2ad71a4-f523-4322-bd4a-3d8216c84574",
     "showTitle": false,
     "title": ""
    }
   },
   "source": [
    "c) Encuentra los nombres de los discos dentro del diccionario mediante el método <code>keys</code>:"
   ]
  },
  {
   "cell_type": "code",
   "execution_count": 16,
   "metadata": {
    "application/vnd.databricks.v1+cell": {
     "inputWidgets": {},
     "nuid": "f6de55cb-c76f-4510-92ad-002dce6e9507",
     "showTitle": false,
     "title": ""
    }
   },
   "outputs": [
    {
     "data": {
      "text/plain": [
       "dict_keys(['The Bodyguard', 'Back in Black', 'Thriller'])"
      ]
     },
     "execution_count": 16,
     "metadata": {},
     "output_type": "execute_result"
    }
   ],
   "source": [
    "# Escribe abajo tu código y presiona Shift+Enter para ejecutarlo\n",
    "\n",
    "#Respuesta\n",
    "album_sales_dict.keys()"
   ]
  },
  {
   "cell_type": "markdown",
   "metadata": {
    "application/vnd.databricks.v1+cell": {
     "inputWidgets": {},
     "nuid": "fd499932-f8ee-465a-8b7f-dc32a8744996",
     "showTitle": false,
     "title": ""
    }
   },
   "source": [
    "Haz doble click __aquí__ para ver la solución.\n",
    "\n",
    "<!-- Your answer is below:\n",
    "album_sales_dict.keys()\n",
    "-->"
   ]
  },
  {
   "cell_type": "markdown",
   "metadata": {
    "application/vnd.databricks.v1+cell": {
     "inputWidgets": {},
     "nuid": "7666a119-1de4-4499-a376-84860b717e13",
     "showTitle": false,
     "title": ""
    }
   },
   "source": [
    "d) Encuentra los records de ventas dentro del diccionario mediante el método <code>values</code>:"
   ]
  },
  {
   "cell_type": "code",
   "execution_count": 17,
   "metadata": {
    "application/vnd.databricks.v1+cell": {
     "inputWidgets": {},
     "nuid": "8f112397-8882-46cc-b310-d8ff50f6e2d0",
     "showTitle": false,
     "title": ""
    }
   },
   "outputs": [
    {
     "data": {
      "text/plain": [
       "dict_values([50, 50, 65])"
      ]
     },
     "execution_count": 17,
     "metadata": {},
     "output_type": "execute_result"
    }
   ],
   "source": [
    "# Escribe abajo tu código y presiona Shift+Enter para ejecutarlo\n",
    "\n",
    "#Respuesta\n",
    "album_sales_dict.values()"
   ]
  },
  {
   "cell_type": "markdown",
   "metadata": {
    "application/vnd.databricks.v1+cell": {
     "inputWidgets": {},
     "nuid": "c5919007-466b-4f55-afb2-0d0af2c8f639",
     "showTitle": false,
     "title": ""
    }
   },
   "source": [
    "Haz doble click __aquí__ para ver la solución.\n",
    "\n",
    "<!-- Your answer is below:\n",
    "album_sales_dict.values()\n",
    "-->"
   ]
  }
 ],
 "metadata": {
  "application/vnd.databricks.v1+notebook": {
   "dashboards": [],
   "language": "python",
   "notebookMetadata": {
    "pythonIndentUnit": 2
   },
   "notebookName": "05-Python-Diccionarios",
   "notebookOrigID": 3296315911138096,
   "widgets": {}
  },
  "kernelspec": {
   "display_name": "base",
   "language": "python",
   "name": "python3"
  },
  "language_info": {
   "codemirror_mode": {
    "name": "ipython",
    "version": 3
   },
   "file_extension": ".py",
   "mimetype": "text/x-python",
   "name": "python",
   "nbconvert_exporter": "python",
   "pygments_lexer": "ipython3",
   "version": "3.11.7"
  }
 },
 "nbformat": 4,
 "nbformat_minor": 0
}
